{
 "cells": [
  {
   "cell_type": "markdown",
   "metadata": {},
   "source": [
    "#   Machine Learning : Stroke Prediction Phase 1"
   ]
  },
  {
   "cell_type": "markdown",
   "metadata": {},
   "source": [
    "###         Name : Nikhil Horakeri                                                                               "
   ]
  },
  {
   "cell_type": "markdown",
   "metadata": {},
   "source": [
    "==================================================================================================================="
   ]
  },
  {
   "cell_type": "markdown",
   "metadata": {},
   "source": [
    "#                               Stroke Prediction "
   ]
  },
  {
   "cell_type": "markdown",
   "metadata": {},
   "source": [
    "## Table of contents:"
   ]
  },
  {
   "cell_type": "markdown",
   "metadata": {},
   "source": [
    "* [Section 1    -     Introduction](#Introduction)\n",
    "    * [Section 1.1   -     Dataset Source](#Dataset_source)\n",
    "    * [Section 1.2   -     Dataset Details](#Dataset_Details)\n",
    "    * [Section 1.3   -     Dataset Features](#Dataset_Features)\n",
    "    * [Section 1.4   -     Target Feature](#Target_Feature)\n",
    "* [Section 2 -  Goals and Objectives](#Goals_objectives)\n",
    "* [Section 3 -  Data Cleaning and Preprocessing](#s3)\n",
    "    * [Section 3.1   -     Check for Irrelveant Features](#s3.1)\n",
    "    * [Section 3.2   -     Check the datatypes of all the attributes and Target Feature](#s3.2)\n",
    "    * [Section 3.3   -     Dealing with missing values](#s3.3)\n",
    "    * [Section 3.4   -     Dealing with incorrect values](#s3.4)\n",
    "    * [Section 3.5   -     Dealing with outliers](#s3.5)\n",
    "* [Section 4 -  Data Exploration and Visualisation](#s4)\n",
    "    * [Section 4.1   -     One variable plots](#s4.1)\n",
    "        * [Section 4.1.1   -    Visualisation of target variable - stroke](#s4.1.1)\n",
    "        * [Section 4.1.2   -    Visualisation of variable age ](#s4.1.2)\n",
    "    * [Section 4.2   -    Two variable plots](#s4.2)\n",
    "        * [Section 4.2.1   -    Visualisation of BMI and Average glucose level](#s4.2.1)\n",
    "        * [Section 4.2.2   -    Visualisation of BMI and Stroke](#s4.2.2)\n",
    "    * [Section 4.3   -    Three variable plot](#s4.3)\n",
    "        * [Section 4.3.1   -    Visualisation for BMI, stroke and hypertension variables](#s4.3.1)\n",
    "        * [Section 4.3.2   -    Visualisation for Age, stroke and gender variables](#s4.3.2)\n",
    "* [Section 5   -    Summary and Conclusions](#s5)\n",
    "* [Section 6   -    References](#s6)"
   ]
  },
  {
   "cell_type": "markdown",
   "metadata": {},
   "source": [
    "## 1) Introduction <a class=\"anchor\" id=\"Introduction\"></a>"
   ]
  },
  {
   "cell_type": "markdown",
   "metadata": {},
   "source": [
    "### 1.1) Dataset source: <a class=\"anchor\" id=\"Dataset_source\"></a>"
   ]
  },
  {
   "cell_type": "markdown",
   "metadata": {},
   "source": [
    "Stroke Prediction Dataset (2021). Available at: https://www.kaggle.com/fedesoriano/stroke-prediction-dataset"
   ]
  },
  {
   "cell_type": "markdown",
   "metadata": {},
   "source": [
    "### 1.2) Dataset Details: <a class=\"anchor\" id=\"Dataset_Details\"></a>"
   ]
  },
  {
   "cell_type": "markdown",
   "metadata": {},
   "source": [
    "Stroke is the second leading cause of death globally, responsible for approximately 11% of total deaths \n",
    "according to a study by WHO(World Health Organisation). A stroke occurs when the blood supply to the part of \n",
    "the Brain is interrupted or reduced. There are many causes of stroke but High Blood pressure is the leading \n",
    "cause of stroke.This dataset is used to predict whether a patient is likely to get stroke based on the input \n",
    "parameters like gender, age, various diseases, and smoking status. Each row in the data corresponds to the details about \n",
    "individual patients."
   ]
  },
  {
   "cell_type": "markdown",
   "metadata": {},
   "source": [
    "### 1.3) Dataset Features: <a class=\"anchor\" id=\"Dataset_Features\"></a>"
   ]
  },
  {
   "cell_type": "markdown",
   "metadata": {},
   "source": [
    "| Feature Name | Data type | Units | Brief Description\n",
    "| :- | :- | :- | :- |\n",
    "| gender | Nominal Categorical | Not Applicable | Describes the gender of the patient\n",
    "| age    | Numerical   | Not Applicable | Describes the age of the patient\n",
    "| hypertension | Binary Categorical | Not Applicable | 0 : if patient has no hypertension , 1 if patient has hypertension\n",
    "| heart_disease | Binary Categorical | Not Applicable | 0 : if patient has no heart_disease, 1 if patient has a heart disease\n",
    "| ever_married | Binary Categorical | Not Applicable | No : Patient is not married , Yes : if the patient is married\n",
    "| work_type | Nominal Categorical | Not Applicable | Describes the patient's area of work \n",
    "| Residence_type | Nominal Categorical | Not Applicable | Describes the patient's residence 'Rural' or 'Urban'\n",
    "| avg_glucose_level | Continuous Numeric | millimoles per Litre(mMol/L) | Patient's average glucose level in blood\n",
    "| bmi | Continuous Numeric | kg/m^2 | Patient's Body Mass index\n",
    "| smoking_status | Ordinal Categorical | Not Applicable | Smoking status of the patient described in terms of \"formerly smoked\", \"never smoked\", \"smokes\" or \"Unknown\"(Unknown - smoking_status means that the information is unavailable for this patient) \n"
   ]
  },
  {
   "cell_type": "markdown",
   "metadata": {},
   "source": [
    "### 1.4) Target Feature : <a class=\"anchor\" id=\"Target_Feature\"></a>"
   ]
  },
  {
   "cell_type": "markdown",
   "metadata": {},
   "source": [
    "Stroke is the target feature which needs to be predicted based on the above selected features."
   ]
  },
  {
   "cell_type": "markdown",
   "metadata": {},
   "source": [
    "| Target Feature Name | Data type | Units | Brief Description\n",
    "| :- | :- | :- | :- |\n",
    "| stroke | Binary Categorical | Not Applicable | 1 : if the patient had a stroke , 0 : if no stroke"
   ]
  },
  {
   "cell_type": "markdown",
   "metadata": {},
   "source": [
    "### 2) Goals and objectives: <a class=\"anchor\" id=\"Goals_objectives\"></a>"
   ]
  },
  {
   "cell_type": "markdown",
   "metadata": {},
   "source": [
    "* To find the important features which makes individuals more prone to stroke.\n",
    "* To find wether old people with age > 55 are more prone to stroke.\n",
    "* Does the risk of stroke increase for individuals with hypertension. \n",
    "* To find wether the individuals with higher BMI are more prone to stroke because of excess fat in the body and overweight. \n",
    "* To predict wether an individual will have a stroke based on the input features described in section 1.3."
   ]
  },
  {
   "cell_type": "markdown",
   "metadata": {},
   "source": [
    "### 3) Data Cleaning and Preprocessing :  <a class=\"anchor\" id=\"s3\"></a>"
   ]
  },
  {
   "cell_type": "code",
   "execution_count": 238,
   "metadata": {},
   "outputs": [],
   "source": [
    "# import the necessary libraries\n",
    "import pandas as pd\n",
    "import numpy as np\n",
    "import matplotlib.pyplot as plt\n",
    "import seaborn as sns"
   ]
  },
  {
   "cell_type": "code",
   "execution_count": 239,
   "metadata": {},
   "outputs": [],
   "source": [
    "import warnings\n",
    "warnings.filterwarnings(\"ignore\")"
   ]
  },
  {
   "cell_type": "code",
   "execution_count": 240,
   "metadata": {},
   "outputs": [],
   "source": [
    "# Importing the datset \n",
    "df = pd.read_csv('healthcare-dataset-stroke-data.csv')"
   ]
  },
  {
   "cell_type": "code",
   "execution_count": 241,
   "metadata": {},
   "outputs": [
    {
     "data": {
      "text/plain": [
       "(5110, 12)"
      ]
     },
     "execution_count": 241,
     "metadata": {},
     "output_type": "execute_result"
    }
   ],
   "source": [
    "# check the shape of the data\n",
    "df.shape"
   ]
  },
  {
   "cell_type": "markdown",
   "metadata": {},
   "source": [
    "#### 3.1) Check for Irrelveant Features :  <a class=\"anchor\" id=\"s3.1\"></a>"
   ]
  },
  {
   "cell_type": "code",
   "execution_count": 242,
   "metadata": {},
   "outputs": [
    {
     "data": {
      "text/html": [
       "<div>\n",
       "<style scoped>\n",
       "    .dataframe tbody tr th:only-of-type {\n",
       "        vertical-align: middle;\n",
       "    }\n",
       "\n",
       "    .dataframe tbody tr th {\n",
       "        vertical-align: top;\n",
       "    }\n",
       "\n",
       "    .dataframe thead th {\n",
       "        text-align: right;\n",
       "    }\n",
       "</style>\n",
       "<table border=\"1\" class=\"dataframe\">\n",
       "  <thead>\n",
       "    <tr style=\"text-align: right;\">\n",
       "      <th></th>\n",
       "      <th>id</th>\n",
       "      <th>gender</th>\n",
       "      <th>age</th>\n",
       "      <th>hypertension</th>\n",
       "      <th>heart_disease</th>\n",
       "      <th>ever_married</th>\n",
       "      <th>work_type</th>\n",
       "      <th>Residence_type</th>\n",
       "      <th>avg_glucose_level</th>\n",
       "      <th>bmi</th>\n",
       "      <th>smoking_status</th>\n",
       "      <th>stroke</th>\n",
       "    </tr>\n",
       "  </thead>\n",
       "  <tbody>\n",
       "    <tr>\n",
       "      <th>0</th>\n",
       "      <td>9046</td>\n",
       "      <td>Male</td>\n",
       "      <td>67.0</td>\n",
       "      <td>0</td>\n",
       "      <td>1</td>\n",
       "      <td>Yes</td>\n",
       "      <td>Private</td>\n",
       "      <td>Urban</td>\n",
       "      <td>228.69</td>\n",
       "      <td>36.6</td>\n",
       "      <td>formerly smoked</td>\n",
       "      <td>1</td>\n",
       "    </tr>\n",
       "    <tr>\n",
       "      <th>1</th>\n",
       "      <td>51676</td>\n",
       "      <td>Female</td>\n",
       "      <td>61.0</td>\n",
       "      <td>0</td>\n",
       "      <td>0</td>\n",
       "      <td>Yes</td>\n",
       "      <td>Self-employed</td>\n",
       "      <td>Rural</td>\n",
       "      <td>202.21</td>\n",
       "      <td>NaN</td>\n",
       "      <td>never smoked</td>\n",
       "      <td>1</td>\n",
       "    </tr>\n",
       "    <tr>\n",
       "      <th>2</th>\n",
       "      <td>31112</td>\n",
       "      <td>Male</td>\n",
       "      <td>80.0</td>\n",
       "      <td>0</td>\n",
       "      <td>1</td>\n",
       "      <td>Yes</td>\n",
       "      <td>Private</td>\n",
       "      <td>Rural</td>\n",
       "      <td>105.92</td>\n",
       "      <td>32.5</td>\n",
       "      <td>never smoked</td>\n",
       "      <td>1</td>\n",
       "    </tr>\n",
       "    <tr>\n",
       "      <th>3</th>\n",
       "      <td>60182</td>\n",
       "      <td>Female</td>\n",
       "      <td>49.0</td>\n",
       "      <td>0</td>\n",
       "      <td>0</td>\n",
       "      <td>Yes</td>\n",
       "      <td>Private</td>\n",
       "      <td>Urban</td>\n",
       "      <td>171.23</td>\n",
       "      <td>34.4</td>\n",
       "      <td>smokes</td>\n",
       "      <td>1</td>\n",
       "    </tr>\n",
       "    <tr>\n",
       "      <th>4</th>\n",
       "      <td>1665</td>\n",
       "      <td>Female</td>\n",
       "      <td>79.0</td>\n",
       "      <td>1</td>\n",
       "      <td>0</td>\n",
       "      <td>Yes</td>\n",
       "      <td>Self-employed</td>\n",
       "      <td>Rural</td>\n",
       "      <td>174.12</td>\n",
       "      <td>24.0</td>\n",
       "      <td>never smoked</td>\n",
       "      <td>1</td>\n",
       "    </tr>\n",
       "  </tbody>\n",
       "</table>\n",
       "</div>"
      ],
      "text/plain": [
       "      id  gender   age  hypertension  heart_disease ever_married  \\\n",
       "0   9046    Male  67.0             0              1          Yes   \n",
       "1  51676  Female  61.0             0              0          Yes   \n",
       "2  31112    Male  80.0             0              1          Yes   \n",
       "3  60182  Female  49.0             0              0          Yes   \n",
       "4   1665  Female  79.0             1              0          Yes   \n",
       "\n",
       "       work_type Residence_type  avg_glucose_level   bmi   smoking_status  \\\n",
       "0        Private          Urban             228.69  36.6  formerly smoked   \n",
       "1  Self-employed          Rural             202.21   NaN     never smoked   \n",
       "2        Private          Rural             105.92  32.5     never smoked   \n",
       "3        Private          Urban             171.23  34.4           smokes   \n",
       "4  Self-employed          Rural             174.12  24.0     never smoked   \n",
       "\n",
       "   stroke  \n",
       "0       1  \n",
       "1       1  \n",
       "2       1  \n",
       "3       1  \n",
       "4       1  "
      ]
     },
     "execution_count": 242,
     "metadata": {},
     "output_type": "execute_result"
    }
   ],
   "source": [
    "df.head(5)"
   ]
  },
  {
   "cell_type": "markdown",
   "metadata": {},
   "source": [
    "In the above dataframe the feature 'id' is the only irrelevant feature as it corressponds to the id for individual patients \n",
    "and is completely unique. So the feature id will be set as the index"
   ]
  },
  {
   "cell_type": "code",
   "execution_count": 243,
   "metadata": {},
   "outputs": [
    {
     "data": {
      "text/html": [
       "<div>\n",
       "<style scoped>\n",
       "    .dataframe tbody tr th:only-of-type {\n",
       "        vertical-align: middle;\n",
       "    }\n",
       "\n",
       "    .dataframe tbody tr th {\n",
       "        vertical-align: top;\n",
       "    }\n",
       "\n",
       "    .dataframe thead th {\n",
       "        text-align: right;\n",
       "    }\n",
       "</style>\n",
       "<table border=\"1\" class=\"dataframe\">\n",
       "  <thead>\n",
       "    <tr style=\"text-align: right;\">\n",
       "      <th></th>\n",
       "      <th>gender</th>\n",
       "      <th>age</th>\n",
       "      <th>hypertension</th>\n",
       "      <th>heart_disease</th>\n",
       "      <th>ever_married</th>\n",
       "      <th>work_type</th>\n",
       "      <th>Residence_type</th>\n",
       "      <th>avg_glucose_level</th>\n",
       "      <th>bmi</th>\n",
       "      <th>smoking_status</th>\n",
       "      <th>stroke</th>\n",
       "    </tr>\n",
       "    <tr>\n",
       "      <th>id</th>\n",
       "      <th></th>\n",
       "      <th></th>\n",
       "      <th></th>\n",
       "      <th></th>\n",
       "      <th></th>\n",
       "      <th></th>\n",
       "      <th></th>\n",
       "      <th></th>\n",
       "      <th></th>\n",
       "      <th></th>\n",
       "      <th></th>\n",
       "    </tr>\n",
       "  </thead>\n",
       "  <tbody>\n",
       "    <tr>\n",
       "      <th>9046</th>\n",
       "      <td>Male</td>\n",
       "      <td>67.0</td>\n",
       "      <td>0</td>\n",
       "      <td>1</td>\n",
       "      <td>Yes</td>\n",
       "      <td>Private</td>\n",
       "      <td>Urban</td>\n",
       "      <td>228.69</td>\n",
       "      <td>36.6</td>\n",
       "      <td>formerly smoked</td>\n",
       "      <td>1</td>\n",
       "    </tr>\n",
       "    <tr>\n",
       "      <th>51676</th>\n",
       "      <td>Female</td>\n",
       "      <td>61.0</td>\n",
       "      <td>0</td>\n",
       "      <td>0</td>\n",
       "      <td>Yes</td>\n",
       "      <td>Self-employed</td>\n",
       "      <td>Rural</td>\n",
       "      <td>202.21</td>\n",
       "      <td>NaN</td>\n",
       "      <td>never smoked</td>\n",
       "      <td>1</td>\n",
       "    </tr>\n",
       "    <tr>\n",
       "      <th>31112</th>\n",
       "      <td>Male</td>\n",
       "      <td>80.0</td>\n",
       "      <td>0</td>\n",
       "      <td>1</td>\n",
       "      <td>Yes</td>\n",
       "      <td>Private</td>\n",
       "      <td>Rural</td>\n",
       "      <td>105.92</td>\n",
       "      <td>32.5</td>\n",
       "      <td>never smoked</td>\n",
       "      <td>1</td>\n",
       "    </tr>\n",
       "    <tr>\n",
       "      <th>60182</th>\n",
       "      <td>Female</td>\n",
       "      <td>49.0</td>\n",
       "      <td>0</td>\n",
       "      <td>0</td>\n",
       "      <td>Yes</td>\n",
       "      <td>Private</td>\n",
       "      <td>Urban</td>\n",
       "      <td>171.23</td>\n",
       "      <td>34.4</td>\n",
       "      <td>smokes</td>\n",
       "      <td>1</td>\n",
       "    </tr>\n",
       "    <tr>\n",
       "      <th>1665</th>\n",
       "      <td>Female</td>\n",
       "      <td>79.0</td>\n",
       "      <td>1</td>\n",
       "      <td>0</td>\n",
       "      <td>Yes</td>\n",
       "      <td>Self-employed</td>\n",
       "      <td>Rural</td>\n",
       "      <td>174.12</td>\n",
       "      <td>24.0</td>\n",
       "      <td>never smoked</td>\n",
       "      <td>1</td>\n",
       "    </tr>\n",
       "  </tbody>\n",
       "</table>\n",
       "</div>"
      ],
      "text/plain": [
       "       gender   age  hypertension  heart_disease ever_married      work_type  \\\n",
       "id                                                                             \n",
       "9046     Male  67.0             0              1          Yes        Private   \n",
       "51676  Female  61.0             0              0          Yes  Self-employed   \n",
       "31112    Male  80.0             0              1          Yes        Private   \n",
       "60182  Female  49.0             0              0          Yes        Private   \n",
       "1665   Female  79.0             1              0          Yes  Self-employed   \n",
       "\n",
       "      Residence_type  avg_glucose_level   bmi   smoking_status  stroke  \n",
       "id                                                                      \n",
       "9046           Urban             228.69  36.6  formerly smoked       1  \n",
       "51676          Rural             202.21   NaN     never smoked       1  \n",
       "31112          Rural             105.92  32.5     never smoked       1  \n",
       "60182          Urban             171.23  34.4           smokes       1  \n",
       "1665           Rural             174.12  24.0     never smoked       1  "
      ]
     },
     "execution_count": 243,
     "metadata": {},
     "output_type": "execute_result"
    }
   ],
   "source": [
    "# set the id column as index\n",
    "df = df.set_index('id')\n",
    "df.head(5)"
   ]
  },
  {
   "cell_type": "markdown",
   "metadata": {},
   "source": [
    "#### 3.2) Check the datatypes of all the attributes and Target Feature :  <a class=\"anchor\" id=\"s3.2\"></a>"
   ]
  },
  {
   "cell_type": "code",
   "execution_count": 244,
   "metadata": {},
   "outputs": [
    {
     "data": {
      "text/plain": [
       "gender                object\n",
       "age                  float64\n",
       "hypertension           int64\n",
       "heart_disease          int64\n",
       "ever_married          object\n",
       "work_type             object\n",
       "Residence_type        object\n",
       "avg_glucose_level    float64\n",
       "bmi                  float64\n",
       "smoking_status        object\n",
       "stroke                 int64\n",
       "dtype: object"
      ]
     },
     "execution_count": 244,
     "metadata": {},
     "output_type": "execute_result"
    }
   ],
   "source": [
    "df.dtypes"
   ]
  },
  {
   "cell_type": "markdown",
   "metadata": {},
   "source": [
    "The data type of  hypertension , heart_disease and stroke should be converted to object as these are categorical"
   ]
  },
  {
   "cell_type": "code",
   "execution_count": 245,
   "metadata": {},
   "outputs": [],
   "source": [
    "df[['hypertension', 'heart_disease', 'stroke']] = df[['hypertension', 'heart_disease', 'stroke']].astype('object')"
   ]
  },
  {
   "cell_type": "markdown",
   "metadata": {},
   "source": [
    "#### 3.3) Dealing with missing values :   <a class=\"anchor\" id=\"s3.3\"></a>"
   ]
  },
  {
   "cell_type": "code",
   "execution_count": 246,
   "metadata": {},
   "outputs": [
    {
     "data": {
      "text/plain": [
       "gender                 0\n",
       "age                    0\n",
       "hypertension           0\n",
       "heart_disease          0\n",
       "ever_married           0\n",
       "work_type              0\n",
       "Residence_type         0\n",
       "avg_glucose_level      0\n",
       "bmi                  201\n",
       "smoking_status         0\n",
       "stroke                 0\n",
       "dtype: int64"
      ]
     },
     "execution_count": 246,
     "metadata": {},
     "output_type": "execute_result"
    }
   ],
   "source": [
    "df.isna().sum()"
   ]
  },
  {
   "cell_type": "markdown",
   "metadata": {},
   "source": [
    "In the above results BMI is the only variable which has 201 missing values. These 201 records of missing values of BMI will be dropped from the data frame as these values cannot be assumed or imputed.  "
   ]
  },
  {
   "cell_type": "code",
   "execution_count": 247,
   "metadata": {},
   "outputs": [],
   "source": [
    "# drop the missing values and store the dataframe in a new variable called stroke_df\n",
    "stroke_df = df.dropna()"
   ]
  },
  {
   "cell_type": "code",
   "execution_count": 248,
   "metadata": {},
   "outputs": [
    {
     "data": {
      "text/plain": [
       "(4909, 11)"
      ]
     },
     "execution_count": 248,
     "metadata": {},
     "output_type": "execute_result"
    }
   ],
   "source": [
    "# check the shape of the dataset after dropping the missing values\n",
    "stroke_df.shape"
   ]
  },
  {
   "cell_type": "markdown",
   "metadata": {},
   "source": [
    "#### 3.4) Dealing with incorrect values :  <a class=\"anchor\" id=\"s3.4\"></a>"
   ]
  },
  {
   "cell_type": "code",
   "execution_count": 249,
   "metadata": {},
   "outputs": [
    {
     "data": {
      "text/plain": [
       "gender                  3\n",
       "age                   104\n",
       "hypertension            2\n",
       "heart_disease           2\n",
       "ever_married            2\n",
       "work_type               5\n",
       "Residence_type          2\n",
       "avg_glucose_level    3852\n",
       "bmi                   418\n",
       "smoking_status          4\n",
       "stroke                  2\n",
       "dtype: int64"
      ]
     },
     "execution_count": 249,
     "metadata": {},
     "output_type": "execute_result"
    }
   ],
   "source": [
    "# check the unique values in each of the features \n",
    "stroke_df.nunique()"
   ]
  },
  {
   "cell_type": "markdown",
   "metadata": {},
   "source": [
    "In the above results we could see that gender has 3 unique values. Check the unique values in the gender variable with the value counts. "
   ]
  },
  {
   "cell_type": "code",
   "execution_count": 250,
   "metadata": {},
   "outputs": [
    {
     "data": {
      "text/plain": [
       "Female    2897\n",
       "Male      2011\n",
       "Other        1\n",
       "Name: gender, dtype: int64"
      ]
     },
     "execution_count": 250,
     "metadata": {},
     "output_type": "execute_result"
    }
   ],
   "source": [
    "stroke_df['gender'].value_counts()"
   ]
  },
  {
   "cell_type": "markdown",
   "metadata": {},
   "source": [
    "There is just one record with the value as 'other' for gender. So this record can be dropped as it won't contribute much to the model. "
   ]
  },
  {
   "cell_type": "code",
   "execution_count": 251,
   "metadata": {},
   "outputs": [
    {
     "data": {
      "text/plain": [
       "Female    2897\n",
       "Male      2011\n",
       "Name: gender, dtype: int64"
      ]
     },
     "execution_count": 251,
     "metadata": {},
     "output_type": "execute_result"
    }
   ],
   "source": [
    "# store the index value of the record in the variable i \n",
    "i = stroke_df[(stroke_df.gender == 'Other')].index\n",
    "\n",
    "# Drop the particular record\n",
    "stroke_df = stroke_df.drop(i)\n",
    "\n",
    "# Check the value counts after dropping the record\n",
    "stroke_df['gender'].value_counts()"
   ]
  },
  {
   "cell_type": "markdown",
   "metadata": {},
   "source": [
    "The smoking_status has 4 features. According to the information provided in the feature description smoking_status = Unknown means that the smoking_status information is unavailable for that particular patient. These can be considered as missing values but the data also involves records of patients with age ranging from 8 days (Age of new born babies).   "
   ]
  },
  {
   "cell_type": "code",
   "execution_count": 252,
   "metadata": {},
   "outputs": [
    {
     "data": {
      "text/plain": [
       "never smoked       1852\n",
       "Unknown            1483\n",
       "formerly smoked     836\n",
       "smokes              737\n",
       "Name: smoking_status, dtype: int64"
      ]
     },
     "execution_count": 252,
     "metadata": {},
     "output_type": "execute_result"
    }
   ],
   "source": [
    "stroke_df['smoking_status'].value_counts()"
   ]
  },
  {
   "cell_type": "code",
   "execution_count": 253,
   "metadata": {},
   "outputs": [
    {
     "data": {
      "text/plain": [
       "gender                        Female\n",
       "age                               10\n",
       "hypertension                       0\n",
       "heart_disease                      0\n",
       "ever_married                      No\n",
       "work_type                    Private\n",
       "Residence_type                 Rural\n",
       "avg_glucose_level              60.69\n",
       "bmi                             16.2\n",
       "smoking_status       formerly smoked\n",
       "stroke                             0\n",
       "dtype: object"
      ]
     },
     "execution_count": 253,
     "metadata": {},
     "output_type": "execute_result"
    }
   ],
   "source": [
    "# find the record with the min age where smoking_status = 'smokes' or 'formerly smoked'\n",
    "stroke_df[((stroke_df['age']<18) & ((stroke_df['smoking_status']=='smokes') | (stroke_df['smoking_status']=='formerly smoked')))].min()"
   ]
  },
  {
   "cell_type": "markdown",
   "metadata": {},
   "source": [
    "As we can see from the above result there is a record of an individual with age = 10 years, who had smoked formerly.\n",
    "So assuming that children or indviduals with age < 10 will not smoke so we can change their smoking_status to 'not smoked'.  The remaining individuals or records where patient's age => 10 and smoking_status = 'Unknown' those records can be considered as having missing values. These missing values can be dropped."
   ]
  },
  {
   "cell_type": "code",
   "execution_count": 254,
   "metadata": {},
   "outputs": [],
   "source": [
    "# make a copy of the variable before changing or dropping the values\n",
    "stroke_df_preprocess = stroke_df.copy()"
   ]
  },
  {
   "cell_type": "code",
   "execution_count": 255,
   "metadata": {},
   "outputs": [],
   "source": [
    "# for patients greater than or equal to 10 years of age, drop the records as smoke status unknown means missing values\n",
    "i = stroke_df_preprocess[((stroke_df_preprocess['age'] >= 10) & (stroke_df_preprocess['smoking_status'] == 'Unknown'))].index\n",
    "stroke_df_preprocess = stroke_df_preprocess.drop(i)"
   ]
  },
  {
   "cell_type": "code",
   "execution_count": 256,
   "metadata": {},
   "outputs": [
    {
     "data": {
      "text/plain": [
       "never smoked       2311\n",
       "formerly smoked     836\n",
       "smokes              737\n",
       "Name: smoking_status, dtype: int64"
      ]
     },
     "execution_count": 256,
     "metadata": {},
     "output_type": "execute_result"
    }
   ],
   "source": [
    "# assuming patients less than 10 years of age didn't smoke change the unknown to never smoked\n",
    "stroke_df_preprocess['smoking_status'] = stroke_df_preprocess['smoking_status'].str.replace('Unknown','never smoked')\n",
    "\n",
    "# check that the smoking_status now has only 3 values\n",
    "stroke_df_preprocess['smoking_status'].value_counts()"
   ]
  },
  {
   "cell_type": "markdown",
   "metadata": {},
   "source": [
    "#### 3.5) Dealing with outliers :  <a class=\"anchor\" id=\"s3.5\"></a>"
   ]
  },
  {
   "cell_type": "markdown",
   "metadata": {},
   "source": [
    "Boxplot will be used to detect the outliers and IQR method will be used to remove the outliers."
   ]
  },
  {
   "cell_type": "code",
   "execution_count": 257,
   "metadata": {},
   "outputs": [
    {
     "data": {
      "text/plain": [
       "Text(0.5, 1.0, 'Boxplot to detect outliers')"
      ]
     },
     "execution_count": 257,
     "metadata": {},
     "output_type": "execute_result"
    },
    {
     "data": {
      "image/png": "[encoded data removed]",
      "text/plain": [
       "<Figure size 432x288 with 1 Axes>"
      ]
     },
     "metadata": {
      "needs_background": "light"
     },
     "output_type": "display_data"
    }
   ],
   "source": [
    "box_plot = stroke_df_preprocess[['age' , 'avg_glucose_level' ,  'bmi']]\n",
    "axs = sns.boxplot(data = box_plot, orient='h', palette='Set2')\n",
    "axs.set_xlabel('values')\n",
    "axs.set_title('Boxplot to detect outliers')"
   ]
  },
  {
   "cell_type": "markdown",
   "metadata": {},
   "source": [
    "As we can see from the above boxplot that only the vaiables \"avg_glucose_level\" and \"bmi\" have outliers. The outliers in both the features will be removed using the IQR method."
   ]
  },
  {
   "cell_type": "code",
   "execution_count": 258,
   "metadata": {},
   "outputs": [
    {
     "name": "stdout",
     "output_type": "stream",
     "text": [
      "age                  35.000\n",
      "avg_glucose_level    37.045\n",
      "bmi                   9.625\n",
      "dtype: float64\n"
     ]
    }
   ],
   "source": [
    "Q1 = stroke_df_preprocess.quantile(0.25)\n",
    "Q3 = stroke_df_preprocess.quantile(0.75)\n",
    "IQR = Q3 - Q1\n",
    "print(IQR)"
   ]
  },
  {
   "cell_type": "code",
   "execution_count": 259,
   "metadata": {},
   "outputs": [],
   "source": [
    "# the outliers will be removed\n",
    "stroke_df_out = stroke_df_preprocess[~( (stroke_df_preprocess < (Q1 - 1.5 * IQR)) |\n",
    "                                       (stroke_df_preprocess > (Q3 + 1.5 * IQR))).any(axis =1)]\n"
   ]
  },
  {
   "cell_type": "code",
   "execution_count": 260,
   "metadata": {},
   "outputs": [
    {
     "data": {
      "text/plain": [
       "(3337, 11)"
      ]
     },
     "execution_count": 260,
     "metadata": {},
     "output_type": "execute_result"
    }
   ],
   "source": [
    "# the number of records or observations are decreased as the outliers were dropped\n",
    "stroke_df_out.shape"
   ]
  },
  {
   "cell_type": "code",
   "execution_count": 261,
   "metadata": {},
   "outputs": [
    {
     "data": {
      "text/html": [
       "<div>\n",
       "<style scoped>\n",
       "    .dataframe tbody tr th:only-of-type {\n",
       "        vertical-align: middle;\n",
       "    }\n",
       "\n",
       "    .dataframe tbody tr th {\n",
       "        vertical-align: top;\n",
       "    }\n",
       "\n",
       "    .dataframe thead th {\n",
       "        text-align: right;\n",
       "    }\n",
       "</style>\n",
       "<table border=\"1\" class=\"dataframe\">\n",
       "  <thead>\n",
       "    <tr style=\"text-align: right;\">\n",
       "      <th></th>\n",
       "      <th>age</th>\n",
       "      <th>avg_glucose_level</th>\n",
       "      <th>bmi</th>\n",
       "    </tr>\n",
       "  </thead>\n",
       "  <tbody>\n",
       "    <tr>\n",
       "      <th>count</th>\n",
       "      <td>3337.000000</td>\n",
       "      <td>3337.000000</td>\n",
       "      <td>3337.000000</td>\n",
       "    </tr>\n",
       "    <tr>\n",
       "      <th>mean</th>\n",
       "      <td>40.983362</td>\n",
       "      <td>91.474486</td>\n",
       "      <td>27.833144</td>\n",
       "    </tr>\n",
       "    <tr>\n",
       "      <th>std</th>\n",
       "      <td>22.722731</td>\n",
       "      <td>22.776762</td>\n",
       "      <td>6.841183</td>\n",
       "    </tr>\n",
       "    <tr>\n",
       "      <th>min</th>\n",
       "      <td>0.080000</td>\n",
       "      <td>55.120000</td>\n",
       "      <td>10.300000</td>\n",
       "    </tr>\n",
       "    <tr>\n",
       "      <th>25%</th>\n",
       "      <td>24.000000</td>\n",
       "      <td>74.900000</td>\n",
       "      <td>23.000000</td>\n",
       "    </tr>\n",
       "    <tr>\n",
       "      <th>50%</th>\n",
       "      <td>42.000000</td>\n",
       "      <td>88.190000</td>\n",
       "      <td>27.500000</td>\n",
       "    </tr>\n",
       "    <tr>\n",
       "      <th>75%</th>\n",
       "      <td>58.000000</td>\n",
       "      <td>104.030000</td>\n",
       "      <td>32.200000</td>\n",
       "    </tr>\n",
       "    <tr>\n",
       "      <th>max</th>\n",
       "      <td>82.000000</td>\n",
       "      <td>169.430000</td>\n",
       "      <td>47.600000</td>\n",
       "    </tr>\n",
       "  </tbody>\n",
       "</table>\n",
       "</div>"
      ],
      "text/plain": [
       "               age  avg_glucose_level          bmi\n",
       "count  3337.000000        3337.000000  3337.000000\n",
       "mean     40.983362          91.474486    27.833144\n",
       "std      22.722731          22.776762     6.841183\n",
       "min       0.080000          55.120000    10.300000\n",
       "25%      24.000000          74.900000    23.000000\n",
       "50%      42.000000          88.190000    27.500000\n",
       "75%      58.000000         104.030000    32.200000\n",
       "max      82.000000         169.430000    47.600000"
      ]
     },
     "execution_count": 261,
     "metadata": {},
     "output_type": "execute_result"
    }
   ],
   "source": [
    "stroke_df_out.describe()"
   ]
  },
  {
   "cell_type": "markdown",
   "metadata": {},
   "source": [
    "### 4) Data Exploration and Visualisation : <a class=\"anchor\" id=\"s4\"></a>"
   ]
  },
  {
   "cell_type": "markdown",
   "metadata": {},
   "source": [
    "### 4.1) One variable plots: <a class=\"anchor\" id=\"s4.1\"></a>"
   ]
  },
  {
   "cell_type": "markdown",
   "metadata": {},
   "source": [
    "#### 4.1.1)  Visualisation of target variable - stroke : <a class=\"anchor\" id=\"s4.1.1\"></a>"
   ]
  },
  {
   "cell_type": "code",
   "execution_count": 262,
   "metadata": {},
   "outputs": [
    {
     "data": {
      "image/png": "[encoded data removed]",
      "text/plain": [
       "<Figure size 432x288 with 1 Axes>"
      ]
     },
     "metadata": {
      "needs_background": "light"
     },
     "output_type": "display_data"
    }
   ],
   "source": [
    "stroke_df_out['stroke'].value_counts().plot(kind = 'bar')\n",
    "plt.title('Bar chart for Stroke ')\n",
    "plt.xlabel('Stroke')\n",
    "plt.ylabel('Value counts')\n",
    "plt.show()"
   ]
  },
  {
   "cell_type": "markdown",
   "metadata": {},
   "source": [
    "                            Fig 1.1"
   ]
  },
  {
   "cell_type": "markdown",
   "metadata": {},
   "source": [
    "Ananlysis : As we can see from the above figure that, the dataset consists of 3223 patients who did not have a stroke, and 114 patients who had a stroke. Clearly the data is imbalanced."
   ]
  },
  {
   "cell_type": "markdown",
   "metadata": {},
   "source": [
    "#### 4.1.2) Visualisation of variable age : <a class=\"anchor\" id=\"s4.1.2\"></a>"
   ]
  },
  {
   "cell_type": "code",
   "execution_count": 263,
   "metadata": {},
   "outputs": [
    {
     "data": {
      "image/png": "[encoded data removed]",
      "text/plain": [
       "<Figure size 432x288 with 1 Axes>"
      ]
     },
     "metadata": {
      "needs_background": "light"
     },
     "output_type": "display_data"
    }
   ],
   "source": [
    "plt.hist(stroke_df_out['age'], bins = 10)\n",
    "plt.title('Histogram for Variable Age')\n",
    "plt.xlabel('Age')\n",
    "plt.ylabel('Value counts')\n",
    "plt.show()"
   ]
  },
  {
   "cell_type": "markdown",
   "metadata": {},
   "source": [
    "                            Fig 1.2"
   ]
  },
  {
   "cell_type": "markdown",
   "metadata": {},
   "source": [
    "Analysis : From the above histogram plot of age variable we could notice that it is uniformly distributed. The age ranges from 0.8 days (new born babies) to age 82 years. "
   ]
  },
  {
   "cell_type": "markdown",
   "metadata": {},
   "source": [
    "### 4.2) Two variable plots: <a class=\"anchor\" id=\"s4.2\"></a>"
   ]
  },
  {
   "cell_type": "markdown",
   "metadata": {},
   "source": [
    "#### 4.2.1) Visualisation of BMI and Average glucose level :  <a class=\"anchor\" id=\"s4.2.1\"></a>"
   ]
  },
  {
   "cell_type": "markdown",
   "metadata": {},
   "source": [
    "Check if there exists any correlation between BMI and Average glucose level which can help us in further analysis."
   ]
  },
  {
   "cell_type": "code",
   "execution_count": 264,
   "metadata": {},
   "outputs": [
    {
     "data": {
      "image/png": "[encoded data removed]",
      "text/plain": [
       "<Figure size 432x288 with 1 Axes>"
      ]
     },
     "metadata": {
      "needs_background": "light"
     },
     "output_type": "display_data"
    }
   ],
   "source": [
    "plt.scatter(stroke_df_out['bmi'], stroke_df_out['avg_glucose_level'])\n",
    "plt.xlabel('Average Glucose level')\n",
    "plt.ylabel(' BMI ')\n",
    "plt.title('Scatter plot of Average glucose level and BMI')\n",
    "plt.show()"
   ]
  },
  {
   "cell_type": "markdown",
   "metadata": {},
   "source": [
    "                            Fig 1.3"
   ]
  },
  {
   "cell_type": "markdown",
   "metadata": {},
   "source": [
    "Analysis : From the scatter plot we can notice that there is no correlation between BMI and Average glucose level. "
   ]
  },
  {
   "cell_type": "markdown",
   "metadata": {},
   "source": [
    "#### 4.2.2) Visualisation of BMI and Stroke :  <a class=\"anchor\" id=\"s4.2.2\"></a>"
   ]
  },
  {
   "cell_type": "markdown",
   "metadata": {},
   "source": [
    "Hypothesis : According to medical reports, individuals who have a bmi of 25 - 29 are overweight and 30 and above are obese.\n",
    "People with higher BMI value are more prone to stroke than the people with lower BMI value, because of excess fat in the body inflammation is likely to occur which causes poor blood flow and increase in blockages leading to stroke."
   ]
  },
  {
   "cell_type": "code",
   "execution_count": 265,
   "metadata": {},
   "outputs": [
    {
     "data": {
      "text/plain": [
       "Text(0.5, 0.98, 'Box plot of BMI grouped by Stroke')"
      ]
     },
     "execution_count": 265,
     "metadata": {},
     "output_type": "execute_result"
    },
    {
     "data": {
      "image/png": "[encoded data removed]",
      "text/plain": [
       "<Figure size 360x360 with 1 Axes>"
      ]
     },
     "metadata": {
      "needs_background": "light"
     },
     "output_type": "display_data"
    }
   ],
   "source": [
    "ax = sns.catplot(x ='stroke', y = 'bmi', kind = 'box', data = stroke_df_out)\n",
    "ax.fig.suptitle('Box plot of BMI grouped by Stroke') "
   ]
  },
  {
   "cell_type": "markdown",
   "metadata": {},
   "source": [
    "                      Fig 1.4"
   ]
  },
  {
   "cell_type": "markdown",
   "metadata": {},
   "source": [
    "Analysis : In the above figure x-axis depicts the stroke and y -axis the bmi values. We could clearly see that the boxplot for stroke =1(patients with stroke), the IQR lies between approximately 26 to 32 which is considered overweight or obese. So these individuals are more prone to stroke.   "
   ]
  },
  {
   "cell_type": "markdown",
   "metadata": {},
   "source": [
    "### 4.3) Three variable plot: <a class=\"anchor\" id=\"s4.3\"></a>"
   ]
  },
  {
   "cell_type": "markdown",
   "metadata": {},
   "source": [
    "#### 4.3.1) Visualisation for BMI, stroke and hypertension variables:  <a class=\"anchor\" id=\"s4.3.1\"></a>"
   ]
  },
  {
   "cell_type": "markdown",
   "metadata": {},
   "source": [
    " Hypothesis : Individuals with hypertension are more prone to stroke, because the high blood pressure can cause the arteries that supply blood and oxygen to the brain, to be blocked leading to stroke."
   ]
  },
  {
   "cell_type": "code",
   "execution_count": 266,
   "metadata": {},
   "outputs": [
    {
     "data": {
      "text/plain": [
       "Text(0.5, 0.98, 'Box plot of BMI for stroke and grouped by Hypertension')"
      ]
     },
     "execution_count": 266,
     "metadata": {},
     "output_type": "execute_result"
    },
    {
     "data": {
      "image/png": "[encoded data removed]",
      "text/plain": [
       "<Figure size 433.625x360 with 1 Axes>"
      ]
     },
     "metadata": {
      "needs_background": "light"
     },
     "output_type": "display_data"
    }
   ],
   "source": [
    "ax = sns.catplot(x ='stroke', y = 'bmi', kind = 'box', hue = 'hypertension', data = stroke_df_out)\n",
    "ax.fig.suptitle('Box plot of BMI for stroke and grouped by Hypertension') "
   ]
  },
  {
   "cell_type": "markdown",
   "metadata": {},
   "source": [
    "Analysis : From the analysis of 2.2 visualisation we know that individuals with higher BMI are more prone to stroke. In this visualisation we could see that the boxplot for stroke =1 and hypertension = 1 (Patients who have hypertension) has a higher IQR compared to the boxplot of hypertension = 0. This clearly corresponds to the above hypothese that people with hypertension and higher BMI are more prone to stroke. "
   ]
  },
  {
   "cell_type": "markdown",
   "metadata": {},
   "source": [
    "#### 4.3.2) Visualisation for Age, stroke and gender variables: <a class=\"anchor\" id=\"s4.3.2\"></a>"
   ]
  },
  {
   "cell_type": "markdown",
   "metadata": {},
   "source": [
    "Hypothesis : According to medical reports stroke occurs in all ages but it doubles the risk of stroke for age between 55 and 85. Female individuals are more prone to stroke."
   ]
  },
  {
   "cell_type": "code",
   "execution_count": 267,
   "metadata": {},
   "outputs": [
    {
     "data": {
      "text/plain": [
       "Text(0.5, 0.98, 'Box plot of Age for stroke and grouped by Gender')"
      ]
     },
     "execution_count": 267,
     "metadata": {},
     "output_type": "execute_result"
    },
    {
     "data": {
      "image/png": "[encoded data removed]",
      "text/plain": [
       "<Figure size 432.125x360 with 1 Axes>"
      ]
     },
     "metadata": {
      "needs_background": "light"
     },
     "output_type": "display_data"
    }
   ],
   "source": [
    "ax = sns.catplot(x ='stroke', y = 'age', kind = 'box', hue = 'gender', data = stroke_df_out)\n",
    "ax.fig.suptitle('Box plot of Age for stroke and grouped by Gender') "
   ]
  },
  {
   "cell_type": "markdown",
   "metadata": {},
   "source": [
    "Analysis : From the above visualisation we could see that the boxplots clearly depict that the IQR for stroke = 1 ranges from age value 55 to 82. So it is clearly visible old people are more prone to stoke and especially female indviduals as their IQR in the boxplot is more than the IQR for male individuals when stroke = 1. This clearly corresponds to the above stated hypothesis. "
   ]
  },
  {
   "cell_type": "markdown",
   "metadata": {},
   "source": [
    "### 5) Summary and Conclusions: <a class=\"anchor\" id=\"s5\"></a>"
   ]
  },
  {
   "cell_type": "markdown",
   "metadata": {},
   "source": [
    "The main aim of this project is to predict wether an individual will have a stroke based on the input parameters. After the exploration and visualisation of the variables in the dataset we could see that, mainly the features age, hypertension , bmi and avg_glucose_level contribute more to this model. The insights gained from these variables, include indviduals with age between 55 and 85 , hypertension = 1, bmi greater than 25 and gender = female are more prone to stroke. All those above visualisations were proved with hypothesis. "
   ]
  },
  {
   "cell_type": "markdown",
   "metadata": {},
   "source": [
    "### 6) References : <a class=\"anchor\" id=\"s6\"></a>"
   ]
  },
  {
   "cell_type": "markdown",
   "metadata": {},
   "source": [
    "[1] High blood pressure. (2015). Retrieved 11 April 2021, from https://www.stroke.org.uk/what-is-stroke/are-you-at-risk-of-stroke/high-blood-pressure#:~:text=High%20blood%20pressur\n",
    "\n",
    "[2] seaborn.boxplot — seaborn 0.11.1 documentation\n",
    "seaborn.boxplot — seaborn 0.11.1 documentation. (2021). Retrieved 11 April 2021, from https://www.stroke.org.uk/what-is-stroke/are-you-at-risk-of-stroke/high-blood-pressure#:~:text=High%20blood%20pressure%20puts%20an,become%20stiffer%20and%20more%20narrow.\n",
    "\n",
    "[3] Kurth, T., Gaziano, J., Berger, K., Kase, C., Rexrode, K., & Cook, N. et al. (2002). Body Mass Index and the Risk of Stroke in Men. Archives Of Internal Medicine, 162(22), 2557. doi: 10.1001/archinte.162.22.2557"
   ]
  }
 ],
 "metadata": {
  "kernelspec": {
   "display_name": "Python 3",
   "language": "python",
   "name": "python3"
  },
  "language_info": {
   "codemirror_mode": {
    "name": "ipython",
    "version": 3
   },
   "file_extension": ".py",
   "mimetype": "text/x-python",
   "name": "python",
   "nbconvert_exporter": "python",
   "pygments_lexer": "ipython3",
   "version": "3.8.3"
  }
 },
 "nbformat": 4,
 "nbformat_minor": 4
}
