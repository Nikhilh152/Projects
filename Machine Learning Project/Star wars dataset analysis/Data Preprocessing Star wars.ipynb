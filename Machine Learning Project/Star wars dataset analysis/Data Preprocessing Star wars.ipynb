{
 "cells": [
  {
   "cell_type": "code",
   "execution_count": 99,
   "metadata": {},
   "outputs": [
    {
     "data": {
      "text/html": [
       "<div>\n",
       "<style scoped>\n",
       "    .dataframe tbody tr th:only-of-type {\n",
       "        vertical-align: middle;\n",
       "    }\n",
       "\n",
       "    .dataframe tbody tr th {\n",
       "        vertical-align: top;\n",
       "    }\n",
       "\n",
       "    .dataframe thead th {\n",
       "        text-align: right;\n",
       "    }\n",
       "</style>\n",
       "<table border=\"1\" class=\"dataframe\">\n",
       "  <thead>\n",
       "    <tr style=\"text-align: right;\">\n",
       "      <th></th>\n",
       "      <th>RespondentID</th>\n",
       "      <th>Watched_starwars</th>\n",
       "      <th>Fan_starwars</th>\n",
       "      <th>Watched_E1</th>\n",
       "      <th>Watched_E2</th>\n",
       "      <th>Watched_E3</th>\n",
       "      <th>Watched_E4</th>\n",
       "      <th>Watched_E5</th>\n",
       "      <th>Watched_E6</th>\n",
       "      <th>Rank_E1</th>\n",
       "      <th>...</th>\n",
       "      <th>Rating_yoda</th>\n",
       "      <th>character_shot_first</th>\n",
       "      <th>Familiar_with_expanded_universe</th>\n",
       "      <th>Fan_Expanded_universe</th>\n",
       "      <th>Fan_Startrek</th>\n",
       "      <th>Gender</th>\n",
       "      <th>Age</th>\n",
       "      <th>Income</th>\n",
       "      <th>Education</th>\n",
       "      <th>Location</th>\n",
       "    </tr>\n",
       "  </thead>\n",
       "  <tbody>\n",
       "    <tr>\n",
       "      <td>0</td>\n",
       "      <td>3292879998</td>\n",
       "      <td>Yes</td>\n",
       "      <td>Yes</td>\n",
       "      <td>Star Wars: Episode I  The Phantom Menace</td>\n",
       "      <td>Star Wars: Episode II  Attack of the Clones</td>\n",
       "      <td>Star Wars: Episode III  Revenge of the Sith</td>\n",
       "      <td>Star Wars: Episode IV  A New Hope</td>\n",
       "      <td>Star Wars: Episode V The Empire Strikes Back</td>\n",
       "      <td>Star Wars: Episode VI Return of the Jedi</td>\n",
       "      <td>3.0</td>\n",
       "      <td>...</td>\n",
       "      <td>Very favorably</td>\n",
       "      <td>I don't understand this question</td>\n",
       "      <td>Yes</td>\n",
       "      <td>No</td>\n",
       "      <td>No</td>\n",
       "      <td>Male</td>\n",
       "      <td>18-29</td>\n",
       "      <td>NaN</td>\n",
       "      <td>High school degree</td>\n",
       "      <td>South Atlantic</td>\n",
       "    </tr>\n",
       "    <tr>\n",
       "      <td>1</td>\n",
       "      <td>3292879538</td>\n",
       "      <td>No</td>\n",
       "      <td>NaN</td>\n",
       "      <td>NaN</td>\n",
       "      <td>NaN</td>\n",
       "      <td>NaN</td>\n",
       "      <td>NaN</td>\n",
       "      <td>NaN</td>\n",
       "      <td>NaN</td>\n",
       "      <td>NaN</td>\n",
       "      <td>...</td>\n",
       "      <td>NaN</td>\n",
       "      <td>NaN</td>\n",
       "      <td>NaN</td>\n",
       "      <td>NaN</td>\n",
       "      <td>Yes</td>\n",
       "      <td>Male</td>\n",
       "      <td>18-29</td>\n",
       "      <td>$0 - $24,999</td>\n",
       "      <td>Bachelor degree</td>\n",
       "      <td>West South Central</td>\n",
       "    </tr>\n",
       "    <tr>\n",
       "      <td>2</td>\n",
       "      <td>3292765271</td>\n",
       "      <td>Yes</td>\n",
       "      <td>No</td>\n",
       "      <td>Star Wars: Episode I  The Phantom Menace</td>\n",
       "      <td>Star Wars: Episode II  Attack of the Clones</td>\n",
       "      <td>Star Wars: Episode III  Revenge of the Sith</td>\n",
       "      <td>NaN</td>\n",
       "      <td>NaN</td>\n",
       "      <td>NaN</td>\n",
       "      <td>1.0</td>\n",
       "      <td>...</td>\n",
       "      <td>Unfamiliar (N/A)</td>\n",
       "      <td>I don't understand this question</td>\n",
       "      <td>No</td>\n",
       "      <td>NaN</td>\n",
       "      <td>No</td>\n",
       "      <td>Male</td>\n",
       "      <td>18-29</td>\n",
       "      <td>$0 - $24,999</td>\n",
       "      <td>High school degree</td>\n",
       "      <td>West North Central</td>\n",
       "    </tr>\n",
       "    <tr>\n",
       "      <td>3</td>\n",
       "      <td>3292763116</td>\n",
       "      <td>Yes</td>\n",
       "      <td>Yes</td>\n",
       "      <td>Star Wars: Episode I  The Phantom Menace</td>\n",
       "      <td>Star Wars: Episode II  Attack of the Clones</td>\n",
       "      <td>Star Wars: Episode III  Revenge of the Sith</td>\n",
       "      <td>Star Wars: Episode IV  A New Hope</td>\n",
       "      <td>Star Wars: Episode V The Empire Strikes Back</td>\n",
       "      <td>Star Wars: Episode VI Return of the Jedi</td>\n",
       "      <td>5.0</td>\n",
       "      <td>...</td>\n",
       "      <td>Very favorably</td>\n",
       "      <td>I don't understand this question</td>\n",
       "      <td>No</td>\n",
       "      <td>NaN</td>\n",
       "      <td>Yes</td>\n",
       "      <td>Male</td>\n",
       "      <td>18-29</td>\n",
       "      <td>$100,000 - $149,999</td>\n",
       "      <td>Some college or Associate degree</td>\n",
       "      <td>West North Central</td>\n",
       "    </tr>\n",
       "    <tr>\n",
       "      <td>4</td>\n",
       "      <td>3292731220</td>\n",
       "      <td>Yes</td>\n",
       "      <td>Yes</td>\n",
       "      <td>Star Wars: Episode I  The Phantom Menace</td>\n",
       "      <td>Star Wars: Episode II  Attack of the Clones</td>\n",
       "      <td>Star Wars: Episode III  Revenge of the Sith</td>\n",
       "      <td>Star Wars: Episode IV  A New Hope</td>\n",
       "      <td>Star Wars: Episode V The Empire Strikes Back</td>\n",
       "      <td>Star Wars: Episode VI Return of the Jedi</td>\n",
       "      <td>5.0</td>\n",
       "      <td>...</td>\n",
       "      <td>Somewhat favorably</td>\n",
       "      <td>Greedo</td>\n",
       "      <td>Yes</td>\n",
       "      <td>No</td>\n",
       "      <td>No</td>\n",
       "      <td>Male</td>\n",
       "      <td>18-29</td>\n",
       "      <td>$100,000 - $149,999</td>\n",
       "      <td>Some college or Associate degree</td>\n",
       "      <td>West North Central</td>\n",
       "    </tr>\n",
       "  </tbody>\n",
       "</table>\n",
       "<p>5 rows × 38 columns</p>\n",
       "</div>"
      ],
      "text/plain": [
       "   RespondentID Watched_starwars Fan_starwars  \\\n",
       "0    3292879998              Yes          Yes   \n",
       "1    3292879538               No          NaN   \n",
       "2    3292765271              Yes           No   \n",
       "3    3292763116              Yes          Yes   \n",
       "4    3292731220              Yes          Yes   \n",
       "\n",
       "                                 Watched_E1  \\\n",
       "0  Star Wars: Episode I  The Phantom Menace   \n",
       "1                                       NaN   \n",
       "2  Star Wars: Episode I  The Phantom Menace   \n",
       "3  Star Wars: Episode I  The Phantom Menace   \n",
       "4  Star Wars: Episode I  The Phantom Menace   \n",
       "\n",
       "                                    Watched_E2  \\\n",
       "0  Star Wars: Episode II  Attack of the Clones   \n",
       "1                                          NaN   \n",
       "2  Star Wars: Episode II  Attack of the Clones   \n",
       "3  Star Wars: Episode II  Attack of the Clones   \n",
       "4  Star Wars: Episode II  Attack of the Clones   \n",
       "\n",
       "                                    Watched_E3  \\\n",
       "0  Star Wars: Episode III  Revenge of the Sith   \n",
       "1                                          NaN   \n",
       "2  Star Wars: Episode III  Revenge of the Sith   \n",
       "3  Star Wars: Episode III  Revenge of the Sith   \n",
       "4  Star Wars: Episode III  Revenge of the Sith   \n",
       "\n",
       "                          Watched_E4  \\\n",
       "0  Star Wars: Episode IV  A New Hope   \n",
       "1                                NaN   \n",
       "2                                NaN   \n",
       "3  Star Wars: Episode IV  A New Hope   \n",
       "4  Star Wars: Episode IV  A New Hope   \n",
       "\n",
       "                                     Watched_E5  \\\n",
       "0  Star Wars: Episode V The Empire Strikes Back   \n",
       "1                                           NaN   \n",
       "2                                           NaN   \n",
       "3  Star Wars: Episode V The Empire Strikes Back   \n",
       "4  Star Wars: Episode V The Empire Strikes Back   \n",
       "\n",
       "                                 Watched_E6  Rank_E1  ...         Rating_yoda  \\\n",
       "0  Star Wars: Episode VI Return of the Jedi      3.0  ...      Very favorably   \n",
       "1                                       NaN      NaN  ...                 NaN   \n",
       "2                                       NaN      1.0  ...    Unfamiliar (N/A)   \n",
       "3  Star Wars: Episode VI Return of the Jedi      5.0  ...      Very favorably   \n",
       "4  Star Wars: Episode VI Return of the Jedi      5.0  ...  Somewhat favorably   \n",
       "\n",
       "               character_shot_first  Familiar_with_expanded_universe  \\\n",
       "0  I don't understand this question                              Yes   \n",
       "1                               NaN                              NaN   \n",
       "2  I don't understand this question                               No   \n",
       "3  I don't understand this question                               No   \n",
       "4                            Greedo                              Yes   \n",
       "\n",
       "   Fan_Expanded_universe  Fan_Startrek Gender    Age               Income  \\\n",
       "0                     No            No   Male  18-29                  NaN   \n",
       "1                    NaN           Yes   Male  18-29         $0 - $24,999   \n",
       "2                    NaN            No   Male  18-29         $0 - $24,999   \n",
       "3                    NaN           Yes   Male  18-29  $100,000 - $149,999   \n",
       "4                     No            No   Male  18-29  $100,000 - $149,999   \n",
       "\n",
       "                          Education            Location  \n",
       "0                High school degree      South Atlantic  \n",
       "1                   Bachelor degree  West South Central  \n",
       "2                High school degree  West North Central  \n",
       "3  Some college or Associate degree  West North Central  \n",
       "4  Some college or Associate degree  West North Central  \n",
       "\n",
       "[5 rows x 38 columns]"
      ]
     },
     "execution_count": 99,
     "metadata": {},
     "output_type": "execute_result"
    }
   ],
   "source": [
    "## TASK 1.1 DATA RETRIEVING\n",
    "starwars_p = 'StarWars.csv'\n",
    "import pandas as pd\n",
    "starwars = pd.read_csv(starwars_p, sep=',', decimal='.', header=None, names=['RespondentID','Watched_starwars','Fan_starwars',\n",
    "                                                                            'Watched_E1','Watched_E2','Watched_E3','Watched_E4','Watched_E5','Watched_E6',\n",
    "                                                                            'Rank_E1','Rank_E2','Rank_E3','Rank_E4','Rank_E5','Rank_E6','Rating_HanSolo',\n",
    "                                                                            'Rating_Luke_Skywalker','Rating_Princess_Leia_Organa','Rating_Anakin_Skywalker',\n",
    "                                                                            'Rating_Obi_Wan_Kenobi','Rating_Emperor_Palpatine','Rating_Darth_Vader',\n",
    "                                                                            'Rating_Lando_Calrissian','Rating_Boba_Fett','Rating_C-3P0',\n",
    "                                                                            'Rating_R2_D2','Rating_Jar_Jar_Binks','Rating_Padme_Amidala',\n",
    "                                                                            'Rating_yoda','character_shot_first','Familiar_with_expanded_universe',\n",
    "                                                                             'Fan_Expanded_universe','Fan_Startrek',\n",
    "                                                                            'Gender','Age','Income','Education','Location'],skiprows=2,skipinitialspace=True\n",
    "                                                                            )\n",
    "starwars.head(5)"
   ]
  },
  {
   "cell_type": "code",
   "execution_count": 100,
   "metadata": {},
   "outputs": [
    {
     "data": {
      "text/plain": [
       "RespondentID                         int64\n",
       "Watched_starwars                    object\n",
       "Fan_starwars                        object\n",
       "Watched_E1                          object\n",
       "Watched_E2                          object\n",
       "Watched_E3                          object\n",
       "Watched_E4                          object\n",
       "Watched_E5                          object\n",
       "Watched_E6                          object\n",
       "Rank_E1                            float64\n",
       "Rank_E2                            float64\n",
       "Rank_E3                            float64\n",
       "Rank_E4                            float64\n",
       "Rank_E5                            float64\n",
       "Rank_E6                            float64\n",
       "Rating_HanSolo                      object\n",
       "Rating_Luke_Skywalker               object\n",
       "Rating_Princess_Leia_Organa         object\n",
       "Rating_Anakin_Skywalker             object\n",
       "Rating_Obi_Wan_Kenobi               object\n",
       "Rating_Emperor_Palpatine            object\n",
       "Rating_Darth_Vader                  object\n",
       "Rating_Lando_Calrissian             object\n",
       "Rating_Boba_Fett                    object\n",
       "Rating_C-3P0                        object\n",
       "Rating_R2_D2                        object\n",
       "Rating_Jar_Jar_Binks                object\n",
       "Rating_Padme_Amidala                object\n",
       "Rating_yoda                         object\n",
       "character_shot_first                object\n",
       "Familiar_with_expanded_universe     object\n",
       "Fan_Expanded_universe               object\n",
       "Fan_Startrek                        object\n",
       "Gender                              object\n",
       "Age                                 object\n",
       "Income                              object\n",
       "Education                           object\n",
       "Location                            object\n",
       "dtype: object"
      ]
     },
     "execution_count": 100,
     "metadata": {},
     "output_type": "execute_result"
    }
   ],
   "source": [
    "## TASK 1.2 CHECK DATA TYPES\n",
    "## the data types of all the attributes are correct \n",
    "starwars.dtypes"
   ]
  },
  {
   "cell_type": "code",
   "execution_count": 101,
   "metadata": {},
   "outputs": [],
   "source": [
    "## TASK 1.3 - Check whether there are typos in the data. If there are any typos, correct them by using masks.\n",
    "# the mask function is used to correct the common typos in the dataset\n",
    "starwars.loc[:] = starwars.mask(starwars=='Yess','Yes')\n",
    "starwars.loc[:] = starwars.mask(starwars=='Noo','No')\n",
    "starwars.loc[:] = starwars.mask(starwars=='F','Female')\n",
    "starwars.loc[:] = starwars.mask(starwars=='M','Male')"
   ]
  },
  {
   "cell_type": "code",
   "execution_count": 102,
   "metadata": {},
   "outputs": [
    {
     "data": {
      "text/html": [
       "<div>\n",
       "<style scoped>\n",
       "    .dataframe tbody tr th:only-of-type {\n",
       "        vertical-align: middle;\n",
       "    }\n",
       "\n",
       "    .dataframe tbody tr th {\n",
       "        vertical-align: top;\n",
       "    }\n",
       "\n",
       "    .dataframe thead th {\n",
       "        text-align: right;\n",
       "    }\n",
       "</style>\n",
       "<table border=\"1\" class=\"dataframe\">\n",
       "  <thead>\n",
       "    <tr style=\"text-align: right;\">\n",
       "      <th></th>\n",
       "      <th>RespondentID</th>\n",
       "      <th>Watched_starwars</th>\n",
       "      <th>Fan_starwars</th>\n",
       "      <th>Watched_E1</th>\n",
       "      <th>Watched_E2</th>\n",
       "      <th>Watched_E3</th>\n",
       "      <th>Watched_E4</th>\n",
       "      <th>Watched_E5</th>\n",
       "      <th>Watched_E6</th>\n",
       "      <th>Rank_E1</th>\n",
       "      <th>...</th>\n",
       "      <th>Rating_yoda</th>\n",
       "      <th>character_shot_first</th>\n",
       "      <th>Familiar_with_expanded_universe</th>\n",
       "      <th>Fan_Expanded_universe</th>\n",
       "      <th>Fan_Startrek</th>\n",
       "      <th>Gender</th>\n",
       "      <th>Age</th>\n",
       "      <th>Income</th>\n",
       "      <th>Education</th>\n",
       "      <th>Location</th>\n",
       "    </tr>\n",
       "  </thead>\n",
       "  <tbody>\n",
       "    <tr>\n",
       "      <td>0</td>\n",
       "      <td>3292879998</td>\n",
       "      <td>Yes</td>\n",
       "      <td>Yes</td>\n",
       "      <td>Star Wars: Episode I  The Phantom Menace</td>\n",
       "      <td>Star Wars: Episode II  Attack of the Clones</td>\n",
       "      <td>Star Wars: Episode III  Revenge of the Sith</td>\n",
       "      <td>Star Wars: Episode IV  A New Hope</td>\n",
       "      <td>Star Wars: Episode V The Empire Strikes Back</td>\n",
       "      <td>Star Wars: Episode VI Return of the Jedi</td>\n",
       "      <td>3.0</td>\n",
       "      <td>...</td>\n",
       "      <td>Very favorably</td>\n",
       "      <td>I don't understand this question</td>\n",
       "      <td>Yes</td>\n",
       "      <td>No</td>\n",
       "      <td>No</td>\n",
       "      <td>Male</td>\n",
       "      <td>18-29</td>\n",
       "      <td>NaN</td>\n",
       "      <td>High school degree</td>\n",
       "      <td>South Atlantic</td>\n",
       "    </tr>\n",
       "    <tr>\n",
       "      <td>1</td>\n",
       "      <td>3292879538</td>\n",
       "      <td>No</td>\n",
       "      <td>NaN</td>\n",
       "      <td>NaN</td>\n",
       "      <td>NaN</td>\n",
       "      <td>NaN</td>\n",
       "      <td>NaN</td>\n",
       "      <td>NaN</td>\n",
       "      <td>NaN</td>\n",
       "      <td>NaN</td>\n",
       "      <td>...</td>\n",
       "      <td>NaN</td>\n",
       "      <td>NaN</td>\n",
       "      <td>NaN</td>\n",
       "      <td>NaN</td>\n",
       "      <td>Yes</td>\n",
       "      <td>Male</td>\n",
       "      <td>18-29</td>\n",
       "      <td>$0 - $24,999</td>\n",
       "      <td>Bachelor degree</td>\n",
       "      <td>West South Central</td>\n",
       "    </tr>\n",
       "    <tr>\n",
       "      <td>2</td>\n",
       "      <td>3292765271</td>\n",
       "      <td>Yes</td>\n",
       "      <td>No</td>\n",
       "      <td>Star Wars: Episode I  The Phantom Menace</td>\n",
       "      <td>Star Wars: Episode II  Attack of the Clones</td>\n",
       "      <td>Star Wars: Episode III  Revenge of the Sith</td>\n",
       "      <td>NaN</td>\n",
       "      <td>NaN</td>\n",
       "      <td>NaN</td>\n",
       "      <td>1.0</td>\n",
       "      <td>...</td>\n",
       "      <td>Unfamiliar (N/A)</td>\n",
       "      <td>I don't understand this question</td>\n",
       "      <td>No</td>\n",
       "      <td>NaN</td>\n",
       "      <td>No</td>\n",
       "      <td>Male</td>\n",
       "      <td>18-29</td>\n",
       "      <td>$0 - $24,999</td>\n",
       "      <td>High school degree</td>\n",
       "      <td>West North Central</td>\n",
       "    </tr>\n",
       "    <tr>\n",
       "      <td>3</td>\n",
       "      <td>3292763116</td>\n",
       "      <td>Yes</td>\n",
       "      <td>Yes</td>\n",
       "      <td>Star Wars: Episode I  The Phantom Menace</td>\n",
       "      <td>Star Wars: Episode II  Attack of the Clones</td>\n",
       "      <td>Star Wars: Episode III  Revenge of the Sith</td>\n",
       "      <td>Star Wars: Episode IV  A New Hope</td>\n",
       "      <td>Star Wars: Episode V The Empire Strikes Back</td>\n",
       "      <td>Star Wars: Episode VI Return of the Jedi</td>\n",
       "      <td>5.0</td>\n",
       "      <td>...</td>\n",
       "      <td>Very favorably</td>\n",
       "      <td>I don't understand this question</td>\n",
       "      <td>No</td>\n",
       "      <td>NaN</td>\n",
       "      <td>Yes</td>\n",
       "      <td>Male</td>\n",
       "      <td>18-29</td>\n",
       "      <td>$100,000 - $149,999</td>\n",
       "      <td>Some college or Associate degree</td>\n",
       "      <td>West North Central</td>\n",
       "    </tr>\n",
       "    <tr>\n",
       "      <td>4</td>\n",
       "      <td>3292731220</td>\n",
       "      <td>Yes</td>\n",
       "      <td>Yes</td>\n",
       "      <td>Star Wars: Episode I  The Phantom Menace</td>\n",
       "      <td>Star Wars: Episode II  Attack of the Clones</td>\n",
       "      <td>Star Wars: Episode III  Revenge of the Sith</td>\n",
       "      <td>Star Wars: Episode IV  A New Hope</td>\n",
       "      <td>Star Wars: Episode V The Empire Strikes Back</td>\n",
       "      <td>Star Wars: Episode VI Return of the Jedi</td>\n",
       "      <td>5.0</td>\n",
       "      <td>...</td>\n",
       "      <td>Somewhat favorably</td>\n",
       "      <td>Greedo</td>\n",
       "      <td>Yes</td>\n",
       "      <td>No</td>\n",
       "      <td>No</td>\n",
       "      <td>Male</td>\n",
       "      <td>18-29</td>\n",
       "      <td>$100,000 - $149,999</td>\n",
       "      <td>Some college or Associate degree</td>\n",
       "      <td>West North Central</td>\n",
       "    </tr>\n",
       "  </tbody>\n",
       "</table>\n",
       "<p>5 rows × 38 columns</p>\n",
       "</div>"
      ],
      "text/plain": [
       "   RespondentID Watched_starwars Fan_starwars  \\\n",
       "0    3292879998              Yes          Yes   \n",
       "1    3292879538               No          NaN   \n",
       "2    3292765271              Yes           No   \n",
       "3    3292763116              Yes          Yes   \n",
       "4    3292731220              Yes          Yes   \n",
       "\n",
       "                                 Watched_E1  \\\n",
       "0  Star Wars: Episode I  The Phantom Menace   \n",
       "1                                       NaN   \n",
       "2  Star Wars: Episode I  The Phantom Menace   \n",
       "3  Star Wars: Episode I  The Phantom Menace   \n",
       "4  Star Wars: Episode I  The Phantom Menace   \n",
       "\n",
       "                                    Watched_E2  \\\n",
       "0  Star Wars: Episode II  Attack of the Clones   \n",
       "1                                          NaN   \n",
       "2  Star Wars: Episode II  Attack of the Clones   \n",
       "3  Star Wars: Episode II  Attack of the Clones   \n",
       "4  Star Wars: Episode II  Attack of the Clones   \n",
       "\n",
       "                                    Watched_E3  \\\n",
       "0  Star Wars: Episode III  Revenge of the Sith   \n",
       "1                                          NaN   \n",
       "2  Star Wars: Episode III  Revenge of the Sith   \n",
       "3  Star Wars: Episode III  Revenge of the Sith   \n",
       "4  Star Wars: Episode III  Revenge of the Sith   \n",
       "\n",
       "                          Watched_E4  \\\n",
       "0  Star Wars: Episode IV  A New Hope   \n",
       "1                                NaN   \n",
       "2                                NaN   \n",
       "3  Star Wars: Episode IV  A New Hope   \n",
       "4  Star Wars: Episode IV  A New Hope   \n",
       "\n",
       "                                     Watched_E5  \\\n",
       "0  Star Wars: Episode V The Empire Strikes Back   \n",
       "1                                           NaN   \n",
       "2                                           NaN   \n",
       "3  Star Wars: Episode V The Empire Strikes Back   \n",
       "4  Star Wars: Episode V The Empire Strikes Back   \n",
       "\n",
       "                                 Watched_E6  Rank_E1  ...         Rating_yoda  \\\n",
       "0  Star Wars: Episode VI Return of the Jedi      3.0  ...      Very favorably   \n",
       "1                                       NaN      NaN  ...                 NaN   \n",
       "2                                       NaN      1.0  ...    Unfamiliar (N/A)   \n",
       "3  Star Wars: Episode VI Return of the Jedi      5.0  ...      Very favorably   \n",
       "4  Star Wars: Episode VI Return of the Jedi      5.0  ...  Somewhat favorably   \n",
       "\n",
       "               character_shot_first  Familiar_with_expanded_universe  \\\n",
       "0  I don't understand this question                              Yes   \n",
       "1                               NaN                              NaN   \n",
       "2  I don't understand this question                               No   \n",
       "3  I don't understand this question                               No   \n",
       "4                            Greedo                              Yes   \n",
       "\n",
       "   Fan_Expanded_universe  Fan_Startrek Gender    Age               Income  \\\n",
       "0                     No            No   Male  18-29                  NaN   \n",
       "1                    NaN           Yes   Male  18-29         $0 - $24,999   \n",
       "2                    NaN            No   Male  18-29         $0 - $24,999   \n",
       "3                    NaN           Yes   Male  18-29  $100,000 - $149,999   \n",
       "4                     No            No   Male  18-29  $100,000 - $149,999   \n",
       "\n",
       "                          Education            Location  \n",
       "0                High school degree      South Atlantic  \n",
       "1                   Bachelor degree  West South Central  \n",
       "2                High school degree  West North Central  \n",
       "3  Some college or Associate degree  West North Central  \n",
       "4  Some college or Associate degree  West North Central  \n",
       "\n",
       "[5 rows x 38 columns]"
      ]
     },
     "execution_count": 102,
     "metadata": {},
     "output_type": "execute_result"
    }
   ],
   "source": [
    "#Task 1.4: Extra-whitespaces\n",
    "## Uses the lambda function to remove the white spaces, based on the condition if the dtype of the attribute is object\n",
    "## then the strip function is applied else the strip function won't be applied\n",
    "starwars.loc[:] = starwars.apply(lambda x: x.str.strip() if x.dtype == \"object\" else x)\n",
    "## The output displays the dataset with white spaces removed\n",
    "starwars.head(5)"
   ]
  },
  {
   "cell_type": "code",
   "execution_count": 103,
   "metadata": {},
   "outputs": [
    {
     "data": {
      "text/html": [
       "<div>\n",
       "<style scoped>\n",
       "    .dataframe tbody tr th:only-of-type {\n",
       "        vertical-align: middle;\n",
       "    }\n",
       "\n",
       "    .dataframe tbody tr th {\n",
       "        vertical-align: top;\n",
       "    }\n",
       "\n",
       "    .dataframe thead th {\n",
       "        text-align: right;\n",
       "    }\n",
       "</style>\n",
       "<table border=\"1\" class=\"dataframe\">\n",
       "  <thead>\n",
       "    <tr style=\"text-align: right;\">\n",
       "      <th></th>\n",
       "      <th>RespondentID</th>\n",
       "      <th>Watched_starwars</th>\n",
       "      <th>Fan_starwars</th>\n",
       "      <th>Watched_E1</th>\n",
       "      <th>Watched_E2</th>\n",
       "      <th>Watched_E3</th>\n",
       "      <th>Watched_E4</th>\n",
       "      <th>Watched_E5</th>\n",
       "      <th>Watched_E6</th>\n",
       "      <th>Rank_E1</th>\n",
       "      <th>...</th>\n",
       "      <th>Rating_yoda</th>\n",
       "      <th>character_shot_first</th>\n",
       "      <th>Familiar_with_expanded_universe</th>\n",
       "      <th>Fan_Expanded_universe</th>\n",
       "      <th>Fan_Startrek</th>\n",
       "      <th>Gender</th>\n",
       "      <th>Age</th>\n",
       "      <th>Income</th>\n",
       "      <th>Education</th>\n",
       "      <th>Location</th>\n",
       "    </tr>\n",
       "  </thead>\n",
       "  <tbody>\n",
       "    <tr>\n",
       "      <td>0</td>\n",
       "      <td>3292879998</td>\n",
       "      <td>YES</td>\n",
       "      <td>YES</td>\n",
       "      <td>STAR WARS: EPISODE I  THE PHANTOM MENACE</td>\n",
       "      <td>STAR WARS: EPISODE II  ATTACK OF THE CLONES</td>\n",
       "      <td>STAR WARS: EPISODE III  REVENGE OF THE SITH</td>\n",
       "      <td>STAR WARS: EPISODE IV  A NEW HOPE</td>\n",
       "      <td>STAR WARS: EPISODE V THE EMPIRE STRIKES BACK</td>\n",
       "      <td>STAR WARS: EPISODE VI RETURN OF THE JEDI</td>\n",
       "      <td>3.0</td>\n",
       "      <td>...</td>\n",
       "      <td>VERY FAVORABLY</td>\n",
       "      <td>I DON'T UNDERSTAND THIS QUESTION</td>\n",
       "      <td>YES</td>\n",
       "      <td>NO</td>\n",
       "      <td>NO</td>\n",
       "      <td>MALE</td>\n",
       "      <td>18-29</td>\n",
       "      <td>NaN</td>\n",
       "      <td>HIGH SCHOOL DEGREE</td>\n",
       "      <td>SOUTH ATLANTIC</td>\n",
       "    </tr>\n",
       "    <tr>\n",
       "      <td>1</td>\n",
       "      <td>3292879538</td>\n",
       "      <td>NO</td>\n",
       "      <td>NaN</td>\n",
       "      <td>NaN</td>\n",
       "      <td>NaN</td>\n",
       "      <td>NaN</td>\n",
       "      <td>NaN</td>\n",
       "      <td>NaN</td>\n",
       "      <td>NaN</td>\n",
       "      <td>NaN</td>\n",
       "      <td>...</td>\n",
       "      <td>NaN</td>\n",
       "      <td>NaN</td>\n",
       "      <td>NaN</td>\n",
       "      <td>NaN</td>\n",
       "      <td>YES</td>\n",
       "      <td>MALE</td>\n",
       "      <td>18-29</td>\n",
       "      <td>$0 - $24,999</td>\n",
       "      <td>BACHELOR DEGREE</td>\n",
       "      <td>WEST SOUTH CENTRAL</td>\n",
       "    </tr>\n",
       "    <tr>\n",
       "      <td>2</td>\n",
       "      <td>3292765271</td>\n",
       "      <td>YES</td>\n",
       "      <td>NO</td>\n",
       "      <td>STAR WARS: EPISODE I  THE PHANTOM MENACE</td>\n",
       "      <td>STAR WARS: EPISODE II  ATTACK OF THE CLONES</td>\n",
       "      <td>STAR WARS: EPISODE III  REVENGE OF THE SITH</td>\n",
       "      <td>NaN</td>\n",
       "      <td>NaN</td>\n",
       "      <td>NaN</td>\n",
       "      <td>1.0</td>\n",
       "      <td>...</td>\n",
       "      <td>UNFAMILIAR (N/A)</td>\n",
       "      <td>I DON'T UNDERSTAND THIS QUESTION</td>\n",
       "      <td>NO</td>\n",
       "      <td>NaN</td>\n",
       "      <td>NO</td>\n",
       "      <td>MALE</td>\n",
       "      <td>18-29</td>\n",
       "      <td>$0 - $24,999</td>\n",
       "      <td>HIGH SCHOOL DEGREE</td>\n",
       "      <td>WEST NORTH CENTRAL</td>\n",
       "    </tr>\n",
       "    <tr>\n",
       "      <td>3</td>\n",
       "      <td>3292763116</td>\n",
       "      <td>YES</td>\n",
       "      <td>YES</td>\n",
       "      <td>STAR WARS: EPISODE I  THE PHANTOM MENACE</td>\n",
       "      <td>STAR WARS: EPISODE II  ATTACK OF THE CLONES</td>\n",
       "      <td>STAR WARS: EPISODE III  REVENGE OF THE SITH</td>\n",
       "      <td>STAR WARS: EPISODE IV  A NEW HOPE</td>\n",
       "      <td>STAR WARS: EPISODE V THE EMPIRE STRIKES BACK</td>\n",
       "      <td>STAR WARS: EPISODE VI RETURN OF THE JEDI</td>\n",
       "      <td>5.0</td>\n",
       "      <td>...</td>\n",
       "      <td>VERY FAVORABLY</td>\n",
       "      <td>I DON'T UNDERSTAND THIS QUESTION</td>\n",
       "      <td>NO</td>\n",
       "      <td>NaN</td>\n",
       "      <td>YES</td>\n",
       "      <td>MALE</td>\n",
       "      <td>18-29</td>\n",
       "      <td>$100,000 - $149,999</td>\n",
       "      <td>SOME COLLEGE OR ASSOCIATE DEGREE</td>\n",
       "      <td>WEST NORTH CENTRAL</td>\n",
       "    </tr>\n",
       "    <tr>\n",
       "      <td>4</td>\n",
       "      <td>3292731220</td>\n",
       "      <td>YES</td>\n",
       "      <td>YES</td>\n",
       "      <td>STAR WARS: EPISODE I  THE PHANTOM MENACE</td>\n",
       "      <td>STAR WARS: EPISODE II  ATTACK OF THE CLONES</td>\n",
       "      <td>STAR WARS: EPISODE III  REVENGE OF THE SITH</td>\n",
       "      <td>STAR WARS: EPISODE IV  A NEW HOPE</td>\n",
       "      <td>STAR WARS: EPISODE V THE EMPIRE STRIKES BACK</td>\n",
       "      <td>STAR WARS: EPISODE VI RETURN OF THE JEDI</td>\n",
       "      <td>5.0</td>\n",
       "      <td>...</td>\n",
       "      <td>SOMEWHAT FAVORABLY</td>\n",
       "      <td>GREEDO</td>\n",
       "      <td>YES</td>\n",
       "      <td>NO</td>\n",
       "      <td>NO</td>\n",
       "      <td>MALE</td>\n",
       "      <td>18-29</td>\n",
       "      <td>$100,000 - $149,999</td>\n",
       "      <td>SOME COLLEGE OR ASSOCIATE DEGREE</td>\n",
       "      <td>WEST NORTH CENTRAL</td>\n",
       "    </tr>\n",
       "  </tbody>\n",
       "</table>\n",
       "<p>5 rows × 38 columns</p>\n",
       "</div>"
      ],
      "text/plain": [
       "   RespondentID Watched_starwars Fan_starwars  \\\n",
       "0    3292879998              YES          YES   \n",
       "1    3292879538               NO          NaN   \n",
       "2    3292765271              YES           NO   \n",
       "3    3292763116              YES          YES   \n",
       "4    3292731220              YES          YES   \n",
       "\n",
       "                                 Watched_E1  \\\n",
       "0  STAR WARS: EPISODE I  THE PHANTOM MENACE   \n",
       "1                                       NaN   \n",
       "2  STAR WARS: EPISODE I  THE PHANTOM MENACE   \n",
       "3  STAR WARS: EPISODE I  THE PHANTOM MENACE   \n",
       "4  STAR WARS: EPISODE I  THE PHANTOM MENACE   \n",
       "\n",
       "                                    Watched_E2  \\\n",
       "0  STAR WARS: EPISODE II  ATTACK OF THE CLONES   \n",
       "1                                          NaN   \n",
       "2  STAR WARS: EPISODE II  ATTACK OF THE CLONES   \n",
       "3  STAR WARS: EPISODE II  ATTACK OF THE CLONES   \n",
       "4  STAR WARS: EPISODE II  ATTACK OF THE CLONES   \n",
       "\n",
       "                                    Watched_E3  \\\n",
       "0  STAR WARS: EPISODE III  REVENGE OF THE SITH   \n",
       "1                                          NaN   \n",
       "2  STAR WARS: EPISODE III  REVENGE OF THE SITH   \n",
       "3  STAR WARS: EPISODE III  REVENGE OF THE SITH   \n",
       "4  STAR WARS: EPISODE III  REVENGE OF THE SITH   \n",
       "\n",
       "                          Watched_E4  \\\n",
       "0  STAR WARS: EPISODE IV  A NEW HOPE   \n",
       "1                                NaN   \n",
       "2                                NaN   \n",
       "3  STAR WARS: EPISODE IV  A NEW HOPE   \n",
       "4  STAR WARS: EPISODE IV  A NEW HOPE   \n",
       "\n",
       "                                     Watched_E5  \\\n",
       "0  STAR WARS: EPISODE V THE EMPIRE STRIKES BACK   \n",
       "1                                           NaN   \n",
       "2                                           NaN   \n",
       "3  STAR WARS: EPISODE V THE EMPIRE STRIKES BACK   \n",
       "4  STAR WARS: EPISODE V THE EMPIRE STRIKES BACK   \n",
       "\n",
       "                                 Watched_E6  Rank_E1  ...         Rating_yoda  \\\n",
       "0  STAR WARS: EPISODE VI RETURN OF THE JEDI      3.0  ...      VERY FAVORABLY   \n",
       "1                                       NaN      NaN  ...                 NaN   \n",
       "2                                       NaN      1.0  ...    UNFAMILIAR (N/A)   \n",
       "3  STAR WARS: EPISODE VI RETURN OF THE JEDI      5.0  ...      VERY FAVORABLY   \n",
       "4  STAR WARS: EPISODE VI RETURN OF THE JEDI      5.0  ...  SOMEWHAT FAVORABLY   \n",
       "\n",
       "               character_shot_first  Familiar_with_expanded_universe  \\\n",
       "0  I DON'T UNDERSTAND THIS QUESTION                              YES   \n",
       "1                               NaN                              NaN   \n",
       "2  I DON'T UNDERSTAND THIS QUESTION                               NO   \n",
       "3  I DON'T UNDERSTAND THIS QUESTION                               NO   \n",
       "4                            GREEDO                              YES   \n",
       "\n",
       "   Fan_Expanded_universe  Fan_Startrek Gender    Age               Income  \\\n",
       "0                     NO            NO   MALE  18-29                  NaN   \n",
       "1                    NaN           YES   MALE  18-29         $0 - $24,999   \n",
       "2                    NaN            NO   MALE  18-29         $0 - $24,999   \n",
       "3                    NaN           YES   MALE  18-29  $100,000 - $149,999   \n",
       "4                     NO            NO   MALE  18-29  $100,000 - $149,999   \n",
       "\n",
       "                          Education            Location  \n",
       "0                HIGH SCHOOL DEGREE      SOUTH ATLANTIC  \n",
       "1                   BACHELOR DEGREE  WEST SOUTH CENTRAL  \n",
       "2                HIGH SCHOOL DEGREE  WEST NORTH CENTRAL  \n",
       "3  SOME COLLEGE OR ASSOCIATE DEGREE  WEST NORTH CENTRAL  \n",
       "4  SOME COLLEGE OR ASSOCIATE DEGREE  WEST NORTH CENTRAL  \n",
       "\n",
       "[5 rows x 38 columns]"
      ]
     },
     "execution_count": 103,
     "metadata": {},
     "output_type": "execute_result"
    }
   ],
   "source": [
    "##TASK 1.5 - UPPER CASE\n",
    "#Cast all text data to upper-case by using an appropriate function.\n",
    "## Uses a lambda function to cast all the data to upper case using the upper function\n",
    "## The lambda function uses the condition where in only the attributes with dtype object are cast to Upper case\n",
    "starwars.loc[:] = starwars.apply(lambda x : x.str.upper() if x.dtype=='object' else x)\n",
    "## The data displayed shows all the text data records in upper case\n",
    "starwars.head(5)"
   ]
  },
  {
   "cell_type": "code",
   "execution_count": 108,
   "metadata": {},
   "outputs": [
    {
     "name": "stdout",
     "output_type": "stream",
     "text": [
      "RespondentID                       1186\n",
      "Watched_starwars                      2\n",
      "Fan_starwars                          2\n",
      "Watched_E1                            1\n",
      "Watched_E2                            1\n",
      "Watched_E3                            1\n",
      "Watched_E4                            1\n",
      "Watched_E5                            1\n",
      "Watched_E6                            1\n",
      "Rank_E1                               6\n",
      "Rank_E2                               6\n",
      "Rank_E3                               6\n",
      "Rank_E4                               6\n",
      "Rank_E5                               6\n",
      "Rank_E6                               6\n",
      "Rating_HanSolo                        6\n",
      "Rating_Luke_Skywalker                 6\n",
      "Rating_Princess_Leia_Organa           6\n",
      "Rating_Anakin_Skywalker               6\n",
      "Rating_Obi_Wan_Kenobi                 6\n",
      "Rating_Emperor_Palpatine              6\n",
      "Rating_Darth_Vader                    6\n",
      "Rating_Lando_Calrissian               6\n",
      "Rating_Boba_Fett                      6\n",
      "Rating_C-3P0                          6\n",
      "Rating_R2_D2                          6\n",
      "Rating_Jar_Jar_Binks                  6\n",
      "Rating_Padme_Amidala                  6\n",
      "Rating_yoda                           6\n",
      "character_shot_first                  3\n",
      "Familiar_with_expanded_universe       2\n",
      "Fan_Expanded_universe                 2\n",
      "Fan_Startrek                          2\n",
      "Gender                                2\n",
      "Age                                   5\n",
      "Income                                5\n",
      "Education                             5\n",
      "Location                              9\n",
      "dtype: int64\n"
     ]
    }
   ],
   "source": [
    "#Task 1.6: Sanity checks\n",
    "## To find the unexpected values in each of the attributes \n",
    "## As all the attributes are categorical attrributes check for the unique values in each attribute \n",
    "uniqueValues = starwars.nunique()\n",
    "## prints the count of unique values in each of the attribute\n",
    "print(uniqueValues)"
   ]
  },
  {
   "cell_type": "code",
   "execution_count": 109,
   "metadata": {},
   "outputs": [
    {
     "data": {
      "text/plain": [
       "array(['18-29', nan, '500', '30-44', '> 60', '45-60'], dtype=object)"
      ]
     },
     "execution_count": 109,
     "metadata": {},
     "output_type": "execute_result"
    }
   ],
   "source": [
    "## All the attributes have correct count of unique values except for age attribute\n",
    "## check the unique values in the age attribute\n",
    "starwars['Age'].unique()"
   ]
  },
  {
   "cell_type": "code",
   "execution_count": 110,
   "metadata": {},
   "outputs": [
    {
     "data": {
      "text/plain": [
       "11      NaN\n",
       "12      NaN\n",
       "13    30-44\n",
       "14    18-29\n",
       "15    18-29\n",
       "16    18-29\n",
       "17    18-29\n",
       "Name: Age, dtype: object"
      ]
     },
     "execution_count": 110,
     "metadata": {},
     "output_type": "execute_result"
    }
   ],
   "source": [
    "## Check for the location of the unexepected value 500 in the Age records and replace it with NaN \n",
    "import numpy as np\n",
    "starwars.loc[12,'Age'] = np.nan\n",
    "starwars.loc[11:17,'Age']"
   ]
  },
  {
   "cell_type": "code",
   "execution_count": 10,
   "metadata": {},
   "outputs": [
    {
     "name": "stdout",
     "output_type": "stream",
     "text": [
      "RespondentID                         0\n",
      "Watched_starwars                     0\n",
      "Fan_starwars                       350\n",
      "Watched_E1                         513\n",
      "Watched_E2                         615\n",
      "Watched_E3                         636\n",
      "Watched_E4                         579\n",
      "Watched_E5                         428\n",
      "Watched_E6                         448\n",
      "Rank_E1                            351\n",
      "Rank_E2                            350\n",
      "Rank_E3                            351\n",
      "Rank_E4                            350\n",
      "Rank_E5                            350\n",
      "Rank_E6                            350\n",
      "Rating_HanSolo                     357\n",
      "Rating_Luke_Skywalker              355\n",
      "Rating_Princess_Leia_Organa        355\n",
      "Rating_Anakin_Skywalker            363\n",
      "Rating_Obi_Wan_Kenobi              361\n",
      "Rating_Emperor_Palpatine           372\n",
      "Rating_Darth_Vader                 360\n",
      "Rating_Lando_Calrissian            366\n",
      "Rating_Boba_Fett                   374\n",
      "Rating_C-3P0                       359\n",
      "Rating_R2_D2                       356\n",
      "Rating_Jar_Jar_Binks               365\n",
      "Rating_Padme_Amidala               372\n",
      "Rating_yoda                        360\n",
      "character_shot_first               358\n",
      "Familiar_with_expanded_universe    358\n",
      "Fan_Expanded_universe              973\n",
      "Fan_Startrek                       118\n",
      "Gender                             140\n",
      "Age                                140\n",
      "Income                             328\n",
      "Education                          150\n",
      "Location                           143\n",
      "dtype: int64\n"
     ]
    }
   ],
   "source": [
    "#Task 1.7: Missing values\n",
    "## Total missing values for each feature\n",
    "## By default the missing values will be filled with NaN\n",
    "## summarise the missing values by using isnull.isum() \n",
    "print(starwars.isnull().sum())"
   ]
  },
  {
   "cell_type": "code",
   "execution_count": 11,
   "metadata": {},
   "outputs": [
    {
     "name": "stdout",
     "output_type": "stream",
     "text": [
      "RespondentID                         0\n",
      "Watched_starwars                     0\n",
      "Fan_starwars                       350\n",
      "Watched_E1                           0\n",
      "Watched_E2                           0\n",
      "Watched_E3                           0\n",
      "Watched_E4                           0\n",
      "Watched_E5                           0\n",
      "Watched_E6                           0\n",
      "Rank_E1                            351\n",
      "Rank_E2                            350\n",
      "Rank_E3                            351\n",
      "Rank_E4                            350\n",
      "Rank_E5                            350\n",
      "Rank_E6                            350\n",
      "Rating_HanSolo                     357\n",
      "Rating_Luke_Skywalker              355\n",
      "Rating_Princess_Leia_Organa        355\n",
      "Rating_Anakin_Skywalker            363\n",
      "Rating_Obi_Wan_Kenobi              361\n",
      "Rating_Emperor_Palpatine           372\n",
      "Rating_Darth_Vader                 360\n",
      "Rating_Lando_Calrissian            366\n",
      "Rating_Boba_Fett                   374\n",
      "Rating_C-3P0                       359\n",
      "Rating_R2_D2                       356\n",
      "Rating_Jar_Jar_Binks               365\n",
      "Rating_Padme_Amidala               372\n",
      "Rating_yoda                        360\n",
      "character_shot_first               358\n",
      "Familiar_with_expanded_universe    358\n",
      "Fan_Expanded_universe              973\n",
      "Fan_Startrek                       118\n",
      "Gender                             140\n",
      "Age                                140\n",
      "Income                             328\n",
      "Education                          150\n",
      "Location                           143\n",
      "dtype: int64\n"
     ]
    }
   ],
   "source": [
    "## Replacing the watch movie values with Yes = Watched , No = Not Watched\n",
    "## For a person who has watched the star wars movies the values in the dataset are displayed with the movie name\n",
    "## We need to replace the movie name with 'Yes'(Assuming perosn has watched the movie)\n",
    "\n",
    "## For a person who has not watched star movies it is displayed as blank.\n",
    "## Need to replace the blank values with 'No'(Assuming the person has not watched the movie)\n",
    "import numpy as np\n",
    "starwars[\"Watched_E1\"] = np.where(starwars[\"Watched_E1\"] == \"STAR WARS: EPISODE I  THE PHANTOM MENACE\", 'YES', 'NO')\n",
    "starwars[\"Watched_E2\"] = np.where(starwars[\"Watched_E2\"] == \"STAR WARS: EPISODE II  ATTACK OF THE CLONES\", 'YES', 'NO')\n",
    "starwars[\"Watched_E3\"] = np.where(starwars[\"Watched_E3\"] == \"STAR WARS: EPISODE III  REVENGE OF THE SITH\", 'YES', 'NO')\n",
    "starwars[\"Watched_E4\"] = np.where(starwars[\"Watched_E4\"] == \"STAR WARS: EPISODE IV  A NEW HOPE\", 'YES', 'NO')\n",
    "starwars[\"Watched_E5\"] = np.where(starwars[\"Watched_E5\"] == \"STAR WARS: EPISODE V THE EMPIRE STRIKES BACK\", 'YES', 'NO')\n",
    "starwars[\"Watched_E6\"] = np.where(starwars[\"Watched_E6\"] == \"STAR WARS: EPISODE VI RETURN OF THE JEDI\", 'YES', 'NO')\n",
    "\n",
    "## there should be 0 blank values for the movies attributes as displayed in the output\n",
    "print(starwars.isnull().sum())"
   ]
  },
  {
   "cell_type": "code",
   "execution_count": 9,
   "metadata": {},
   "outputs": [],
   "source": [
    "# Task 2: Data Exploration\n",
    "# Task 2.1. Explore the survey question: \\textit{Please rank the Star Wars films in order of preference with 1 being your favorite film in the franchise and 6 being your least favorite film.\t(Star Wars: Episode I  The Phantom Menace; Star Wars: Episode II  Attack of the Clones; Star Wars: Episode III  Revenge of the Sith;\tStar Wars: Episode IV  A New Hope; Star Wars: Episode V The Empire Strikes Back; Star Wars: Episode VI Return of the Jedi)}, then analysis how people rate Star Wars Movies. \n",
    "\n",
    "\n",
    "#Code goes after this line by adding cells"
   ]
  },
  {
   "cell_type": "code",
   "execution_count": 14,
   "metadata": {},
   "outputs": [
    {
     "data": {
      "text/plain": [
       "<matplotlib.axes._subplots.AxesSubplot at 0x2cc6bfe70c8>"
      ]
     },
     "execution_count": 14,
     "metadata": {},
     "output_type": "execute_result"
    },
    {
     "data": {
      "image/png": "[encoded data removed]",
      "text/plain": [
       "<Figure size 432x288 with 1 Axes>"
      ]
     },
     "metadata": {},
     "output_type": "display_data"
    }
   ],
   "source": [
    "## Plot the data as pie chart for each of the movies to display the rank\n",
    "## import matplot package to plot the pie chart\n",
    "import matplotlib.pyplot as plt\n",
    "## Plot the ranking data of 1st Episode\n",
    "E1 = starwars['Rank_E1']\n",
    "## Drop the NaN values and plot the pie chart only for the available data values\n",
    "E1.dropna().value_counts().plot(kind='pie',autopct='%.2f')"
   ]
  },
  {
   "cell_type": "code",
   "execution_count": 15,
   "metadata": {},
   "outputs": [
    {
     "data": {
      "text/plain": [
       "<matplotlib.axes._subplots.AxesSubplot at 0x2cc6c19bf08>"
      ]
     },
     "execution_count": 15,
     "metadata": {},
     "output_type": "execute_result"
    },
    {
     "data": {
      "image/png": "[encoded data removed]",
      "text/plain": [
       "<Figure size 432x288 with 1 Axes>"
      ]
     },
     "metadata": {},
     "output_type": "display_data"
    }
   ],
   "source": [
    "## Plot the ranking data of 2nd Episode\n",
    "E2 = starwars['Rank_E2']\n",
    "E2.dropna().value_counts().plot(kind='pie',autopct='%.2f')"
   ]
  },
  {
   "cell_type": "code",
   "execution_count": 16,
   "metadata": {},
   "outputs": [
    {
     "data": {
      "text/plain": [
       "<matplotlib.axes._subplots.AxesSubplot at 0x2cc6c21bc48>"
      ]
     },
     "execution_count": 16,
     "metadata": {},
     "output_type": "execute_result"
    },
    {
     "data": {
      "image/png": "[encoded data removed]",
      "text/plain": [
       "<Figure size 432x288 with 1 Axes>"
      ]
     },
     "metadata": {},
     "output_type": "display_data"
    }
   ],
   "source": [
    "## Plot the ranking data of 3rd Episode\n",
    "E3 = starwars['Rank_E3']\n",
    "E3.dropna().value_counts().plot(kind='pie',autopct='%.2f')"
   ]
  },
  {
   "cell_type": "code",
   "execution_count": 17,
   "metadata": {},
   "outputs": [
    {
     "data": {
      "text/plain": [
       "<matplotlib.axes._subplots.AxesSubplot at 0x2cc6c281e08>"
      ]
     },
     "execution_count": 17,
     "metadata": {},
     "output_type": "execute_result"
    },
    {
     "data": {
      "image/png": "[encoded data removed]",
      "text/plain": [
       "<Figure size 432x288 with 1 Axes>"
      ]
     },
     "metadata": {},
     "output_type": "display_data"
    }
   ],
   "source": [
    "## Plot the ranking data of 4th  Episode\n",
    "E4 = starwars['Rank_E4']\n",
    "E4.dropna().value_counts().plot(kind='pie',autopct='%.2f')"
   ]
  },
  {
   "cell_type": "code",
   "execution_count": 18,
   "metadata": {},
   "outputs": [
    {
     "data": {
      "text/plain": [
       "<matplotlib.axes._subplots.AxesSubplot at 0x2cc6c2e91c8>"
      ]
     },
     "execution_count": 18,
     "metadata": {},
     "output_type": "execute_result"
    },
    {
     "data": {
      "image/png": "[encoded data removed]",
      "text/plain": [
       "<Figure size 432x288 with 1 Axes>"
      ]
     },
     "metadata": {},
     "output_type": "display_data"
    }
   ],
   "source": [
    "## Plot the ranking data of 5th  Episode\n",
    "E5 = starwars['Rank_E5'] \n",
    "E5.dropna().value_counts().plot(kind='pie',autopct='%.2f')"
   ]
  },
  {
   "cell_type": "code",
   "execution_count": 118,
   "metadata": {},
   "outputs": [
    {
     "data": {
      "text/plain": [
       "<matplotlib.axes._subplots.AxesSubplot at 0x2cc6fbbf608>"
      ]
     },
     "execution_count": 118,
     "metadata": {},
     "output_type": "execute_result"
    },
    {
     "data": {
      "image/png": "[encoded data removed]",
      "text/plain": [
       "<Figure size 432x288 with 1 Axes>"
      ]
     },
     "metadata": {},
     "output_type": "display_data"
    }
   ],
   "source": [
    "## Plot the ranking data of 6th  Episode\n",
    "E6 = starwars['Rank_E6'] \n",
    "E6.dropna().value_counts().plot(kind='pie',autopct='%.2f')\n",
    "\n",
    "## ANALYSIS:\n",
    "# Comapring the plots of 6 Episodes of starwars we can conclude that \n",
    "# Star Wars: Episode V The Empire Strikes Back is the Best Ranked movie(Most favorite film)\n",
    "# Star Wars: Episode III  Revenge of the Sith is the Least favorite film"
   ]
  },
  {
   "cell_type": "code",
   "execution_count": 10,
   "metadata": {},
   "outputs": [],
   "source": [
    "# Task 2: Data Exploration\n",
    "# Task 2.2 Explore the relationships between columns; at least 3 visualisations with plausible hypothesis\n",
    "\n",
    "#Code goes after this line by adding cells"
   ]
  },
  {
   "cell_type": "code",
   "execution_count": 19,
   "metadata": {},
   "outputs": [
    {
     "data": {
      "text/plain": [
       "<matplotlib.axes._subplots.AxesSubplot at 0x2cc6c34d408>"
      ]
     },
     "execution_count": 19,
     "metadata": {},
     "output_type": "execute_result"
    },
    {
     "data": {
      "image/png": "[encoded data removed]",
      "text/plain": [
       "<Figure size 432x288 with 1 Axes>"
      ]
     },
     "metadata": {},
     "output_type": "display_data"
    }
   ],
   "source": [
    "# Task 2.2.1: 1st relationship between watched EpIV and who shot first attribute\n",
    "## The 'Who shot first' attribute refers to a controversial change made to a scene in Star Wars: Episode IV  A New Hope\n",
    "## There exists a relationship between 'Who shot first' attribute and 'Star Wars: Episode IV  A New Hope'\n",
    "import matplotlib as plt\n",
    "##  Filter the values for the respondents who have watched Star Wars: Episode IV  A New Hope\n",
    "watchIV = starwars[['character_shot_first']][starwars.Watched_E4 == 'YES']\n",
    "## Plot the pie chart for the attribute 'who shot first'\n",
    "watchIV['character_shot_first'].value_counts().plot(kind='pie', autopct = '%.2f')"
   ]
  },
  {
   "cell_type": "code",
   "execution_count": 20,
   "metadata": {},
   "outputs": [
    {
     "data": {
      "text/plain": [
       "<matplotlib.axes._subplots.AxesSubplot at 0x2cc6c39df08>"
      ]
     },
     "execution_count": 20,
     "metadata": {},
     "output_type": "execute_result"
    },
    {
     "data": {
      "image/png": "[encoded data removed]",
      "text/plain": [
       "<Figure size 432x288 with 1 Axes>"
      ]
     },
     "metadata": {},
     "output_type": "display_data"
    }
   ],
   "source": [
    "##  Filter the values for the respondents who have not watched Star Wars: Episode IV  A New Hope\n",
    "notwatchedIV = starwars[['character_shot_first']][starwars.Watched_E4 == 'NO']\n",
    "## Plot the pie chart for the attribute 'who shot first'\n",
    "notwatchedIV['character_shot_first'].value_counts().plot(kind='pie',autopct = '%.2f')\n",
    "\n",
    "# ANALYSIS:\n",
    "## The respondents who watched the Star Wars: Episode IV  A New Hope were able to answer the question 'Who shot first'\n",
    "## and only 47.83% didn't understand the question\n",
    "\n",
    "## The respondents who did not watch Star Wars: Episode IV  A New Hope were not able to answer the question 'Who shot first'\n",
    "## as the majority of them 65.35% didn't understand the question "
   ]
  },
  {
   "cell_type": "code",
   "execution_count": 27,
   "metadata": {},
   "outputs": [],
   "source": [
    "# Task 2.2.2: 2nd relationship between watched star wars movies and gender\n",
    "import matplotlib as plt\n",
    "watchedstarwars = starwars[['Gender']][starwars.Watched_starwars == 'YES']\n",
    "notwatchedstarwars = starwars[['Gender']][starwars.Watched_starwars == 'NO']"
   ]
  },
  {
   "cell_type": "code",
   "execution_count": 28,
   "metadata": {},
   "outputs": [
    {
     "data": {
      "text/plain": [
       "<matplotlib.axes._subplots.AxesSubplot at 0x2cc6c48aec8>"
      ]
     },
     "execution_count": 28,
     "metadata": {},
     "output_type": "execute_result"
    },
    {
     "data": {
      "image/png": "[encoded data removed]",
      "text/plain": [
       "<Figure size 432x288 with 1 Axes>"
      ]
     },
     "metadata": {},
     "output_type": "display_data"
    }
   ],
   "source": [
    "# plot the pie chart for respondents who have watched a star wars movie\n",
    "watchedstarwars['Gender'].value_counts().plot(kind= 'pie', autopct = '%.2f')"
   ]
  },
  {
   "cell_type": "code",
   "execution_count": 29,
   "metadata": {},
   "outputs": [
    {
     "data": {
      "text/plain": [
       "<matplotlib.axes._subplots.AxesSubplot at 0x2cc6c4d2f48>"
      ]
     },
     "execution_count": 29,
     "metadata": {},
     "output_type": "execute_result"
    },
    {
     "data": {
      "image/png": "[encoded data removed]",
      "text/plain": [
       "<Figure size 432x288 with 1 Axes>"
      ]
     },
     "metadata": {},
     "output_type": "display_data"
    }
   ],
   "source": [
    "# plot the pie chart for the respondents who have not wtached a star wars movie\n",
    "notwatchedstarwars['Gender'].value_counts().plot(kind= 'pie', autopct = '%.2f')"
   ]
  },
  {
   "cell_type": "code",
   "execution_count": 32,
   "metadata": {},
   "outputs": [
    {
     "data": {
      "text/plain": [
       "<matplotlib.axes._subplots.AxesSubplot at 0x2cc6d66b0c8>"
      ]
     },
     "execution_count": 32,
     "metadata": {},
     "output_type": "execute_result"
    },
    {
     "data": {
      "image/png": "[encoded data removed]",
      "text/plain": [
       "<Figure size 720x360 with 1 Axes>"
      ]
     },
     "metadata": {
      "needs_background": "light"
     },
     "output_type": "display_data"
    }
   ],
   "source": [
    "# Task 2.2.3: 3rd relationship\n",
    "## most fav film ranked 1(E5) with age\n",
    "## plot a boxplot grouped by age with respect to raking of Episode V\n",
    "starwars.dropna().boxplot(column='Rank_E5',by='Age',figsize=(10,5))"
   ]
  },
  {
   "cell_type": "code",
   "execution_count": 11,
   "metadata": {},
   "outputs": [],
   "source": [
    "# Task 2: Data Exploration\n",
    "# Task 2.3: Explore whether there are relationship between people's demographics (Gender, Age, Household Income, Education, Location) and their attitude to Start War characters. \n",
    "\n",
    "#Code goes after this line by adding cells"
   ]
  },
  {
   "cell_type": "code",
   "execution_count": 56,
   "metadata": {},
   "outputs": [
    {
     "data": {
      "text/plain": [
       "120"
      ]
     },
     "execution_count": 56,
     "metadata": {},
     "output_type": "execute_result"
    }
   ],
   "source": [
    "# Task 2.3.1:\n",
    "##Emperor Palpatine is rated as the most unfamiliar Character (Assumption: as the Number of females who have not watched starwars \n",
    "##is more than male), so female count is more as they are unfamiliar with the character\n",
    "\n",
    "## Validate the assumption check the value counts by gender when the repsondents are not a fan of starwars movies\n",
    "## Check the count of male repodents who are not a fan of starwars\n",
    "NOT_Fan_Male = starwars[(starwars['Fan_starwars'] == 'NO') & (starwars['Gender'] == 'MALE')]\n",
    "NOT_Fan_Male['Gender'].count()"
   ]
  },
  {
   "cell_type": "code",
   "execution_count": 55,
   "metadata": {},
   "outputs": [
    {
     "data": {
      "text/plain": [
       "159"
      ]
     },
     "execution_count": 55,
     "metadata": {},
     "output_type": "execute_result"
    }
   ],
   "source": [
    "## check the number of female characters who are not a fan of starwars.\n",
    "NOT_fan_Female = starwars[(starwars['Fan_starwars'] == 'NO') & (starwars['Gender'] == 'FEMALE')]\n",
    "NOT_fan_Female['Gender'].count()\n",
    "## clearly the number of female respondents(159) who are not a fan of starwars is more than male respondents(120)."
   ]
  },
  {
   "cell_type": "code",
   "execution_count": 58,
   "metadata": {},
   "outputs": [
    {
     "data": {
      "text/plain": [
       "<matplotlib.axes._subplots.AxesSubplot at 0x2cc6d98cd48>"
      ]
     },
     "execution_count": 58,
     "metadata": {},
     "output_type": "execute_result"
    },
    {
     "data": {
      "image/png": "[encoded data removed]",
      "text/plain": [
       "<Figure size 432x288 with 1 Axes>"
      ]
     },
     "metadata": {
      "needs_background": "light"
     },
     "output_type": "display_data"
    }
   ],
   "source": [
    "## Filter the values where Emperor Palpatine is ranked as UNFAMILIAR (N/A)\n",
    "rating_Emperor = starwars[(starwars['Rating_Emperor_Palpatine'] == 'UNFAMILIAR (N/A)')] \n",
    "## plot the bar chart of Gender frequency values\n",
    "rating_Emperor['Gender'].value_counts().dropna().plot(kind='bar')\n",
    "## FRom the graph we can conclude more number of females are unfamiliar "
   ]
  },
  {
   "cell_type": "code",
   "execution_count": 65,
   "metadata": {},
   "outputs": [],
   "source": [
    "# Task 2.3.2:\n",
    "# relationship between age and character yoda(The second most familiar character)\n",
    "## To plot a bar plot we need to convert the Ranking of the character to numeric ranging from 1(Very Favorably) to 6(Unfamiliar N/A)\n",
    "## make a copy of the dataframe starwars\n",
    "rank_char = starwars\n",
    "## change the scaling to numeric format\n",
    "rank_char.iloc[:,15:29] = rank_char.iloc[:,15:29].replace('VERY FAVORABLY',1)\n",
    "rank_char.iloc[:,15:29] = rank_char.iloc[:,15:29].replace('SOMEWHAT UNFAVORABLY',2)\n",
    "rank_char.iloc[:,15:29] = rank_char.iloc[:,15:29].replace('NEITHER FAVORABLY NOR UNFAVORABLY (NEUTRAL)',3)\n",
    "rank_char.iloc[:,15:29] = rank_char.iloc[:,15:29].replace('SOMEWHAT FAVORABLY',4)\n",
    "rank_char.iloc[:,15:29] = rank_char.iloc[:,15:29].replace('VERY UNFAVORABLY',5)\n",
    "rank_char.iloc[:,15:29] = rank_char.iloc[:,15:29].replace('UNFAMILIAR (N/A)',6)\n",
    "## change the data type to object\n",
    "rank_char.iloc[:,15:29] = rank_char.iloc[:,15:29].astype('object')"
   ]
  },
  {
   "cell_type": "code",
   "execution_count": 112,
   "metadata": {},
   "outputs": [
    {
     "data": {
      "text/plain": [
       "(0.8, 7)"
      ]
     },
     "execution_count": 112,
     "metadata": {},
     "output_type": "execute_result"
    },
    {
     "data": {
      "image/png": "[encoded data removed]",
      "text/plain": [
       "<Figure size 720x360 with 1 Axes>"
      ]
     },
     "metadata": {
      "needs_background": "light"
     },
     "output_type": "display_data"
    }
   ],
   "source": [
    "ax = rank_char.dropna().boxplot(column='Rating_yoda',by='Age',figsize=(10,5))\n",
    "ax.set_ylim(ymax=7)"
   ]
  },
  {
   "cell_type": "code",
   "execution_count": 115,
   "metadata": {},
   "outputs": [
    {
     "data": {
      "text/plain": [
       "(0.75, 7)"
      ]
     },
     "execution_count": 115,
     "metadata": {},
     "output_type": "execute_result"
    },
    {
     "data": {
      "image/png": "[encoded data removed]",
      "text/plain": [
       "<Figure size 1080x360 with 1 Axes>"
      ]
     },
     "metadata": {
      "needs_background": "light"
     },
     "output_type": "display_data"
    }
   ],
   "source": [
    "# Task 2.3.3: relationship between Education and character Emperor Palpatine(Unfamiliar N/A)\n",
    "ax = rank_char.dropna().boxplot(column='Rating_Emperor_Palpatine',by='Education',figsize=(15,5))\n",
    "ax.set_ylim(ymax=7)"
   ]
  },
  {
   "cell_type": "code",
   "execution_count": 116,
   "metadata": {},
   "outputs": [
    {
     "data": {
      "text/plain": [
       "(0.75, 7)"
      ]
     },
     "execution_count": 116,
     "metadata": {},
     "output_type": "execute_result"
    },
    {
     "data": {
      "image/png": "[encoded data removed]",
      "text/plain": [
       "<Figure size 1080x360 with 1 Axes>"
      ]
     },
     "metadata": {
      "needs_background": "light"
     },
     "output_type": "display_data"
    }
   ],
   "source": [
    "# Task 2.3.4: relationship between Income and character Emperor Palpatine(Unfamiliar N/A)\n",
    "ax = rank_char.dropna().boxplot(column='Rating_Emperor_Palpatine',by='Income',figsize=(15,5))\n",
    "ax.set_ylim(ymax=7)"
   ]
  },
  {
   "cell_type": "code",
   "execution_count": 117,
   "metadata": {},
   "outputs": [
    {
     "data": {
      "text/plain": [
       "(0.75, 7)"
      ]
     },
     "execution_count": 117,
     "metadata": {},
     "output_type": "execute_result"
    },
    {
     "data": {
      "image/png": "[encoded data removed]",
      "text/plain": [
       "<Figure size 1080x360 with 1 Axes>"
      ]
     },
     "metadata": {
      "needs_background": "light"
     },
     "output_type": "display_data"
    }
   ],
   "source": [
    "# Task 2.3.5: relationship between Location and character Emperor Palpatine(Unfamiliar N/A)\n",
    "ax = rank_char.dropna().boxplot(column='Rating_Emperor_Palpatine',by='Location',figsize=(15,5))\n",
    "ax.set_ylim(ymax=7)"
   ]
  }
 ],
 "metadata": {
  "kernelspec": {
   "display_name": "Python 3",
   "language": "python",
   "name": "python3"
  },
  "language_info": {
   "codemirror_mode": {
    "name": "ipython",
    "version": 3
   },
   "file_extension": ".py",
   "mimetype": "text/x-python",
   "name": "python",
   "nbconvert_exporter": "python",
   "pygments_lexer": "ipython3",
   "version": "3.8.3"
  }
 },
 "nbformat": 4,
 "nbformat_minor": 4
}
